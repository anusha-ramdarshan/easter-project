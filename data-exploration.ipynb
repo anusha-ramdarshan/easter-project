{
 "cells": [
  {
   "cell_type": "markdown",
   "metadata": {},
   "source": [
    "# Data exploration"
   ]
  },
  {
   "cell_type": "markdown",
   "metadata": {},
   "source": [
    "## Imports"
   ]
  },
  {
   "cell_type": "code",
   "execution_count": 74,
   "metadata": {},
   "outputs": [],
   "source": [
    "import json\n",
    "import numpy as np\n",
    "import requests\n",
    "import spotipy\n",
    "from spotipy.oauth2 import SpotifyOAuth\n",
    "import plotly.graph_objects as go\n",
    "from plotly.subplots import make_subplots\n",
    "import math\n",
    "from functools import lru_cache\n",
    "from datetime import timedelta"
   ]
  },
  {
   "cell_type": "markdown",
   "metadata": {},
   "source": [
    "## Spotify Auth and Token"
   ]
  },
  {
   "cell_type": "code",
   "execution_count": 114,
   "metadata": {},
   "outputs": [],
   "source": [
    "scope = \"user-read-playback-state,user-modify-playback-state\"\n",
    "\n",
    "token = spotipy.util.prompt_for_user_token(\n",
    "    \"eosimias\",\n",
    "    scope=scope,\n",
    "    client_id=None,\n",
    "    client_secret=None,\n",
    "    redirect_uri=None,\n",
    "    cache_path=None,\n",
    "    oauth_manager=None,\n",
    "    show_dialog=False,\n",
    ")\n",
    "\n",
    "sp = spotipy.Spotify(auth=token)"
   ]
  },
  {
   "cell_type": "markdown",
   "metadata": {},
   "source": [
    "## Explore Playlist"
   ]
  },
  {
   "cell_type": "code",
   "execution_count": 5,
   "metadata": {},
   "outputs": [],
   "source": [
    "playlist_uri = 'spotify:playlist:5mSVi1sqlgIfkwT1P995az'"
   ]
  },
  {
   "cell_type": "code",
   "execution_count": 6,
   "metadata": {},
   "outputs": [],
   "source": [
    "def get_audio_features_for_playlist(playlist_uri):\n",
    "    results = sp.playlist_tracks(playlist_uri)\n",
    "    songs = results[\"items\"]\n",
    "    tracks = [song[\"track\"][\"id\"] for song in songs]\n",
    "    names = [song[\"track\"][\"name\"] for song in songs]\n",
    "    return sp.audio_features(tracks=tracks), names"
   ]
  },
  {
   "cell_type": "code",
   "execution_count": 7,
   "metadata": {},
   "outputs": [],
   "source": [
    "features, names = get_audio_features_for_playlist(playlist_uri)"
   ]
  },
  {
   "cell_type": "code",
   "execution_count": 8,
   "metadata": {},
   "outputs": [
    {
     "data": {
      "text/plain": [
       "{'danceability': 0.394,\n",
       " 'energy': 0.242,\n",
       " 'key': 2,\n",
       " 'loudness': -14.371,\n",
       " 'mode': 1,\n",
       " 'speechiness': 0.0627,\n",
       " 'acousticness': 0.683,\n",
       " 'instrumentalness': 0.00113,\n",
       " 'liveness': 0.0934,\n",
       " 'valence': 0.333,\n",
       " 'tempo': 178.908,\n",
       " 'type': 'audio_features',\n",
       " 'id': '08HnZYZBZEG76sslHpD7Yc',\n",
       " 'uri': 'spotify:track:08HnZYZBZEG76sslHpD7Yc',\n",
       " 'track_href': 'https://api.spotify.com/v1/tracks/08HnZYZBZEG76sslHpD7Yc',\n",
       " 'analysis_url': 'https://api.spotify.com/v1/audio-analysis/08HnZYZBZEG76sslHpD7Yc',\n",
       " 'duration_ms': 212107,\n",
       " 'time_signature': 3}"
      ]
     },
     "execution_count": 8,
     "metadata": {},
     "output_type": "execute_result"
    }
   ],
   "source": [
    "features[0]"
   ]
  },
  {
   "cell_type": "code",
   "execution_count": 103,
   "metadata": {},
   "outputs": [],
   "source": [
    "def plot_playlist_data(features, names):\n",
    "\n",
    "    playlist_info = sp.playlist(playlist_uri)\n",
    "\n",
    "    x = list(range(1, len(features)))\n",
    "    y0 = [feature[\"energy\"] for feature in features]\n",
    "    y1 = [feature[\"danceability\"] for feature in features]\n",
    "    y2 = [feature[\"valence\"] for feature in features]\n",
    "    y3 = [feature[\"tempo\"] for feature in features]\n",
    "\n",
    "    # Create traces\n",
    "    fig = make_subplots(specs=[[{\"secondary_y\": True}]])\n",
    "    fig.add_trace(\n",
    "        go.Scatter(x=x, y=y0, mode=\"lines+markers\", name=\"energy\"), secondary_y=False,\n",
    "    )\n",
    "    fig.add_trace(\n",
    "        go.Scatter(x=x, y=y1, mode=\"lines+markers\", name=\"danceability\"),\n",
    "        secondary_y=False,\n",
    "    )\n",
    "    fig.add_trace(\n",
    "        go.Scatter(x=x, y=y2, mode=\"lines+markers\", name=\"valence\"), secondary_y=False,\n",
    "    )\n",
    "\n",
    "    fig.add_trace(\n",
    "        go.Scatter(x=x, y=y3, name=\"tempo/bpm\"), secondary_y=True,\n",
    "    )\n",
    "\n",
    "    # Add figure title\n",
    "\n",
    "    fig.update_layout(\n",
    "        title_text=f\"{playlist_info['name']}\"\n",
    "    )\n",
    "\n",
    "    # Set y-axes titles\n",
    "    fig.update_yaxes(title_text=\"energy/danceability/valence\", secondary_y=False)\n",
    "    fig.update_yaxes(title_text=\"Tempo in beats per minute\", secondary_y=True)\n",
    "\n",
    "    fig.update_xaxes(tickangle=45, tickfont=dict(size=10))\n",
    "\n",
    "    fig.update_layout(xaxis=dict(tickmode=\"linear\", tick0=1, dtick=1))\n",
    "    fig.update_layout(xaxis=dict(tickmode=\"array\", tickvals=x, ticktext=names))\n",
    "    fig.update_layout(template=\"simple_white\", clickmode=\"event+select\")\n",
    "\n",
    "    return fig\n"
   ]
  },
  {
   "cell_type": "code",
   "execution_count": 104,
   "metadata": {},
   "outputs": [
    {
     "data": {
      "application/vnd.plotly.v1+json": {
       "config": {
        "plotlyServerURL": "https://plot.ly"
       },
       "data": [
        {
         "mode": "lines+markers",
         "name": "energy",
         "type": "scatter",
         "x": [
          1,
          2,
          3,
          4,
          5,
          6,
          7,
          8,
          9,
          10,
          11,
          12,
          13,
          14,
          15
         ],
         "xaxis": "x",
         "y": [
          0.242,
          0.382,
          0.61,
          0.17,
          0.248,
          0.222,
          0.187,
          0.474,
          0.113,
          0.377,
          0.497,
          0.312,
          0.4,
          0.305,
          0.297,
          0.324
         ],
         "yaxis": "y"
        },
        {
         "mode": "lines+markers",
         "name": "danceability",
         "type": "scatter",
         "x": [
          1,
          2,
          3,
          4,
          5,
          6,
          7,
          8,
          9,
          10,
          11,
          12,
          13,
          14,
          15
         ],
         "xaxis": "x",
         "y": [
          0.394,
          0.644,
          0.356,
          0.543,
          0.649,
          0.591,
          0.461,
          0.681,
          0.517,
          0.588,
          0.666,
          0.626,
          0.631,
          0.735,
          0.435,
          0.708
         ],
         "yaxis": "y"
        },
        {
         "mode": "lines+markers",
         "name": "valence",
         "type": "scatter",
         "x": [
          1,
          2,
          3,
          4,
          5,
          6,
          7,
          8,
          9,
          10,
          11,
          12,
          13,
          14,
          15
         ],
         "xaxis": "x",
         "y": [
          0.333,
          0.614,
          0.617,
          0.697,
          0.5,
          0.518,
          0.343,
          0.948,
          0.414,
          0.388,
          0.587,
          0.298,
          0.452,
          0.612,
          0.489,
          0.638
         ],
         "yaxis": "y"
        },
        {
         "name": "tempo/bpm",
         "type": "scatter",
         "x": [
          1,
          2,
          3,
          4,
          5,
          6,
          7,
          8,
          9,
          10,
          11,
          12,
          13,
          14,
          15
         ],
         "xaxis": "x",
         "y": [
          178.908,
          72.353,
          205.972,
          92.944,
          94.504,
          81.116,
          68.863,
          114.295,
          77.639,
          115,
          113.621,
          98.708,
          139.888,
          97.075,
          84.625,
          103.924
         ],
         "yaxis": "y2"
        }
       ],
       "layout": {
        "autosize": true,
        "clickmode": "event+select",
        "template": {
         "data": {
          "bar": [
           {
            "error_x": {
             "color": "rgb(36,36,36)"
            },
            "error_y": {
             "color": "rgb(36,36,36)"
            },
            "marker": {
             "line": {
              "color": "white",
              "width": 0.5
             }
            },
            "type": "bar"
           }
          ],
          "barpolar": [
           {
            "marker": {
             "line": {
              "color": "white",
              "width": 0.5
             }
            },
            "type": "barpolar"
           }
          ],
          "carpet": [
           {
            "aaxis": {
             "endlinecolor": "rgb(36,36,36)",
             "gridcolor": "white",
             "linecolor": "white",
             "minorgridcolor": "white",
             "startlinecolor": "rgb(36,36,36)"
            },
            "baxis": {
             "endlinecolor": "rgb(36,36,36)",
             "gridcolor": "white",
             "linecolor": "white",
             "minorgridcolor": "white",
             "startlinecolor": "rgb(36,36,36)"
            },
            "type": "carpet"
           }
          ],
          "choropleth": [
           {
            "colorbar": {
             "outlinewidth": 1,
             "tickcolor": "rgb(36,36,36)",
             "ticks": "outside"
            },
            "type": "choropleth"
           }
          ],
          "contour": [
           {
            "colorbar": {
             "outlinewidth": 1,
             "tickcolor": "rgb(36,36,36)",
             "ticks": "outside"
            },
            "colorscale": [
             [
              0,
              "#440154"
             ],
             [
              0.1111111111111111,
              "#482878"
             ],
             [
              0.2222222222222222,
              "#3e4989"
             ],
             [
              0.3333333333333333,
              "#31688e"
             ],
             [
              0.4444444444444444,
              "#26828e"
             ],
             [
              0.5555555555555556,
              "#1f9e89"
             ],
             [
              0.6666666666666666,
              "#35b779"
             ],
             [
              0.7777777777777778,
              "#6ece58"
             ],
             [
              0.8888888888888888,
              "#b5de2b"
             ],
             [
              1,
              "#fde725"
             ]
            ],
            "type": "contour"
           }
          ],
          "contourcarpet": [
           {
            "colorbar": {
             "outlinewidth": 1,
             "tickcolor": "rgb(36,36,36)",
             "ticks": "outside"
            },
            "type": "contourcarpet"
           }
          ],
          "heatmap": [
           {
            "colorbar": {
             "outlinewidth": 1,
             "tickcolor": "rgb(36,36,36)",
             "ticks": "outside"
            },
            "colorscale": [
             [
              0,
              "#440154"
             ],
             [
              0.1111111111111111,
              "#482878"
             ],
             [
              0.2222222222222222,
              "#3e4989"
             ],
             [
              0.3333333333333333,
              "#31688e"
             ],
             [
              0.4444444444444444,
              "#26828e"
             ],
             [
              0.5555555555555556,
              "#1f9e89"
             ],
             [
              0.6666666666666666,
              "#35b779"
             ],
             [
              0.7777777777777778,
              "#6ece58"
             ],
             [
              0.8888888888888888,
              "#b5de2b"
             ],
             [
              1,
              "#fde725"
             ]
            ],
            "type": "heatmap"
           }
          ],
          "heatmapgl": [
           {
            "colorbar": {
             "outlinewidth": 1,
             "tickcolor": "rgb(36,36,36)",
             "ticks": "outside"
            },
            "colorscale": [
             [
              0,
              "#440154"
             ],
             [
              0.1111111111111111,
              "#482878"
             ],
             [
              0.2222222222222222,
              "#3e4989"
             ],
             [
              0.3333333333333333,
              "#31688e"
             ],
             [
              0.4444444444444444,
              "#26828e"
             ],
             [
              0.5555555555555556,
              "#1f9e89"
             ],
             [
              0.6666666666666666,
              "#35b779"
             ],
             [
              0.7777777777777778,
              "#6ece58"
             ],
             [
              0.8888888888888888,
              "#b5de2b"
             ],
             [
              1,
              "#fde725"
             ]
            ],
            "type": "heatmapgl"
           }
          ],
          "histogram": [
           {
            "marker": {
             "line": {
              "color": "white",
              "width": 0.6
             }
            },
            "type": "histogram"
           }
          ],
          "histogram2d": [
           {
            "colorbar": {
             "outlinewidth": 1,
             "tickcolor": "rgb(36,36,36)",
             "ticks": "outside"
            },
            "colorscale": [
             [
              0,
              "#440154"
             ],
             [
              0.1111111111111111,
              "#482878"
             ],
             [
              0.2222222222222222,
              "#3e4989"
             ],
             [
              0.3333333333333333,
              "#31688e"
             ],
             [
              0.4444444444444444,
              "#26828e"
             ],
             [
              0.5555555555555556,
              "#1f9e89"
             ],
             [
              0.6666666666666666,
              "#35b779"
             ],
             [
              0.7777777777777778,
              "#6ece58"
             ],
             [
              0.8888888888888888,
              "#b5de2b"
             ],
             [
              1,
              "#fde725"
             ]
            ],
            "type": "histogram2d"
           }
          ],
          "histogram2dcontour": [
           {
            "colorbar": {
             "outlinewidth": 1,
             "tickcolor": "rgb(36,36,36)",
             "ticks": "outside"
            },
            "colorscale": [
             [
              0,
              "#440154"
             ],
             [
              0.1111111111111111,
              "#482878"
             ],
             [
              0.2222222222222222,
              "#3e4989"
             ],
             [
              0.3333333333333333,
              "#31688e"
             ],
             [
              0.4444444444444444,
              "#26828e"
             ],
             [
              0.5555555555555556,
              "#1f9e89"
             ],
             [
              0.6666666666666666,
              "#35b779"
             ],
             [
              0.7777777777777778,
              "#6ece58"
             ],
             [
              0.8888888888888888,
              "#b5de2b"
             ],
             [
              1,
              "#fde725"
             ]
            ],
            "type": "histogram2dcontour"
           }
          ],
          "mesh3d": [
           {
            "colorbar": {
             "outlinewidth": 1,
             "tickcolor": "rgb(36,36,36)",
             "ticks": "outside"
            },
            "type": "mesh3d"
           }
          ],
          "parcoords": [
           {
            "line": {
             "colorbar": {
              "outlinewidth": 1,
              "tickcolor": "rgb(36,36,36)",
              "ticks": "outside"
             }
            },
            "type": "parcoords"
           }
          ],
          "pie": [
           {
            "automargin": true,
            "type": "pie"
           }
          ],
          "scatter": [
           {
            "marker": {
             "colorbar": {
              "outlinewidth": 1,
              "tickcolor": "rgb(36,36,36)",
              "ticks": "outside"
             }
            },
            "type": "scatter"
           }
          ],
          "scatter3d": [
           {
            "line": {
             "colorbar": {
              "outlinewidth": 1,
              "tickcolor": "rgb(36,36,36)",
              "ticks": "outside"
             }
            },
            "marker": {
             "colorbar": {
              "outlinewidth": 1,
              "tickcolor": "rgb(36,36,36)",
              "ticks": "outside"
             }
            },
            "type": "scatter3d"
           }
          ],
          "scattercarpet": [
           {
            "marker": {
             "colorbar": {
              "outlinewidth": 1,
              "tickcolor": "rgb(36,36,36)",
              "ticks": "outside"
             }
            },
            "type": "scattercarpet"
           }
          ],
          "scattergeo": [
           {
            "marker": {
             "colorbar": {
              "outlinewidth": 1,
              "tickcolor": "rgb(36,36,36)",
              "ticks": "outside"
             }
            },
            "type": "scattergeo"
           }
          ],
          "scattergl": [
           {
            "marker": {
             "colorbar": {
              "outlinewidth": 1,
              "tickcolor": "rgb(36,36,36)",
              "ticks": "outside"
             }
            },
            "type": "scattergl"
           }
          ],
          "scattermapbox": [
           {
            "marker": {
             "colorbar": {
              "outlinewidth": 1,
              "tickcolor": "rgb(36,36,36)",
              "ticks": "outside"
             }
            },
            "type": "scattermapbox"
           }
          ],
          "scatterpolar": [
           {
            "marker": {
             "colorbar": {
              "outlinewidth": 1,
              "tickcolor": "rgb(36,36,36)",
              "ticks": "outside"
             }
            },
            "type": "scatterpolar"
           }
          ],
          "scatterpolargl": [
           {
            "marker": {
             "colorbar": {
              "outlinewidth": 1,
              "tickcolor": "rgb(36,36,36)",
              "ticks": "outside"
             }
            },
            "type": "scatterpolargl"
           }
          ],
          "scatterternary": [
           {
            "marker": {
             "colorbar": {
              "outlinewidth": 1,
              "tickcolor": "rgb(36,36,36)",
              "ticks": "outside"
             }
            },
            "type": "scatterternary"
           }
          ],
          "surface": [
           {
            "colorbar": {
             "outlinewidth": 1,
             "tickcolor": "rgb(36,36,36)",
             "ticks": "outside"
            },
            "colorscale": [
             [
              0,
              "#440154"
             ],
             [
              0.1111111111111111,
              "#482878"
             ],
             [
              0.2222222222222222,
              "#3e4989"
             ],
             [
              0.3333333333333333,
              "#31688e"
             ],
             [
              0.4444444444444444,
              "#26828e"
             ],
             [
              0.5555555555555556,
              "#1f9e89"
             ],
             [
              0.6666666666666666,
              "#35b779"
             ],
             [
              0.7777777777777778,
              "#6ece58"
             ],
             [
              0.8888888888888888,
              "#b5de2b"
             ],
             [
              1,
              "#fde725"
             ]
            ],
            "type": "surface"
           }
          ],
          "table": [
           {
            "cells": {
             "fill": {
              "color": "rgb(237,237,237)"
             },
             "line": {
              "color": "white"
             }
            },
            "header": {
             "fill": {
              "color": "rgb(217,217,217)"
             },
             "line": {
              "color": "white"
             }
            },
            "type": "table"
           }
          ]
         },
         "layout": {
          "annotationdefaults": {
           "arrowhead": 0,
           "arrowwidth": 1
          },
          "coloraxis": {
           "colorbar": {
            "outlinewidth": 1,
            "tickcolor": "rgb(36,36,36)",
            "ticks": "outside"
           }
          },
          "colorscale": {
           "diverging": [
            [
             0,
             "rgb(103,0,31)"
            ],
            [
             0.1,
             "rgb(178,24,43)"
            ],
            [
             0.2,
             "rgb(214,96,77)"
            ],
            [
             0.3,
             "rgb(244,165,130)"
            ],
            [
             0.4,
             "rgb(253,219,199)"
            ],
            [
             0.5,
             "rgb(247,247,247)"
            ],
            [
             0.6,
             "rgb(209,229,240)"
            ],
            [
             0.7,
             "rgb(146,197,222)"
            ],
            [
             0.8,
             "rgb(67,147,195)"
            ],
            [
             0.9,
             "rgb(33,102,172)"
            ],
            [
             1,
             "rgb(5,48,97)"
            ]
           ],
           "sequential": [
            [
             0,
             "#440154"
            ],
            [
             0.1111111111111111,
             "#482878"
            ],
            [
             0.2222222222222222,
             "#3e4989"
            ],
            [
             0.3333333333333333,
             "#31688e"
            ],
            [
             0.4444444444444444,
             "#26828e"
            ],
            [
             0.5555555555555556,
             "#1f9e89"
            ],
            [
             0.6666666666666666,
             "#35b779"
            ],
            [
             0.7777777777777778,
             "#6ece58"
            ],
            [
             0.8888888888888888,
             "#b5de2b"
            ],
            [
             1,
             "#fde725"
            ]
           ],
           "sequentialminus": [
            [
             0,
             "#440154"
            ],
            [
             0.1111111111111111,
             "#482878"
            ],
            [
             0.2222222222222222,
             "#3e4989"
            ],
            [
             0.3333333333333333,
             "#31688e"
            ],
            [
             0.4444444444444444,
             "#26828e"
            ],
            [
             0.5555555555555556,
             "#1f9e89"
            ],
            [
             0.6666666666666666,
             "#35b779"
            ],
            [
             0.7777777777777778,
             "#6ece58"
            ],
            [
             0.8888888888888888,
             "#b5de2b"
            ],
            [
             1,
             "#fde725"
            ]
           ]
          },
          "colorway": [
           "#1F77B4",
           "#FF7F0E",
           "#2CA02C",
           "#D62728",
           "#9467BD",
           "#8C564B",
           "#E377C2",
           "#7F7F7F",
           "#BCBD22",
           "#17BECF"
          ],
          "font": {
           "color": "rgb(36,36,36)"
          },
          "geo": {
           "bgcolor": "white",
           "lakecolor": "white",
           "landcolor": "white",
           "showlakes": true,
           "showland": true,
           "subunitcolor": "white"
          },
          "hoverlabel": {
           "align": "left"
          },
          "hovermode": "closest",
          "mapbox": {
           "style": "light"
          },
          "paper_bgcolor": "white",
          "plot_bgcolor": "white",
          "polar": {
           "angularaxis": {
            "gridcolor": "rgb(232,232,232)",
            "linecolor": "rgb(36,36,36)",
            "showgrid": false,
            "showline": true,
            "ticks": "outside"
           },
           "bgcolor": "white",
           "radialaxis": {
            "gridcolor": "rgb(232,232,232)",
            "linecolor": "rgb(36,36,36)",
            "showgrid": false,
            "showline": true,
            "ticks": "outside"
           }
          },
          "scene": {
           "xaxis": {
            "backgroundcolor": "white",
            "gridcolor": "rgb(232,232,232)",
            "gridwidth": 2,
            "linecolor": "rgb(36,36,36)",
            "showbackground": true,
            "showgrid": false,
            "showline": true,
            "ticks": "outside",
            "zeroline": false,
            "zerolinecolor": "rgb(36,36,36)"
           },
           "yaxis": {
            "backgroundcolor": "white",
            "gridcolor": "rgb(232,232,232)",
            "gridwidth": 2,
            "linecolor": "rgb(36,36,36)",
            "showbackground": true,
            "showgrid": false,
            "showline": true,
            "ticks": "outside",
            "zeroline": false,
            "zerolinecolor": "rgb(36,36,36)"
           },
           "zaxis": {
            "backgroundcolor": "white",
            "gridcolor": "rgb(232,232,232)",
            "gridwidth": 2,
            "linecolor": "rgb(36,36,36)",
            "showbackground": true,
            "showgrid": false,
            "showline": true,
            "ticks": "outside",
            "zeroline": false,
            "zerolinecolor": "rgb(36,36,36)"
           }
          },
          "shapedefaults": {
           "fillcolor": "black",
           "line": {
            "width": 0
           },
           "opacity": 0.3
          },
          "ternary": {
           "aaxis": {
            "gridcolor": "rgb(232,232,232)",
            "linecolor": "rgb(36,36,36)",
            "showgrid": false,
            "showline": true,
            "ticks": "outside"
           },
           "baxis": {
            "gridcolor": "rgb(232,232,232)",
            "linecolor": "rgb(36,36,36)",
            "showgrid": false,
            "showline": true,
            "ticks": "outside"
           },
           "bgcolor": "white",
           "caxis": {
            "gridcolor": "rgb(232,232,232)",
            "linecolor": "rgb(36,36,36)",
            "showgrid": false,
            "showline": true,
            "ticks": "outside"
           }
          },
          "title": {
           "x": 0.05
          },
          "xaxis": {
           "automargin": true,
           "gridcolor": "rgb(232,232,232)",
           "linecolor": "rgb(36,36,36)",
           "showgrid": false,
           "showline": true,
           "ticks": "outside",
           "title": {
            "standoff": 15
           },
           "zeroline": false,
           "zerolinecolor": "rgb(36,36,36)"
          },
          "yaxis": {
           "automargin": true,
           "gridcolor": "rgb(232,232,232)",
           "linecolor": "rgb(36,36,36)",
           "showgrid": false,
           "showline": true,
           "ticks": "outside",
           "title": {
            "standoff": 15
           },
           "zeroline": false,
           "zerolinecolor": "rgb(36,36,36)"
          }
         }
        },
        "title": {
         "text": "Cider House Blues Sunday"
        },
        "xaxis": {
         "anchor": "y",
         "autorange": true,
         "domain": [
          0,
          0.94
         ],
         "dtick": 1,
         "range": [
          0.13955940244700848,
          15.86044059755299
         ],
         "tick0": 1,
         "tickangle": 45,
         "tickfont": {
          "size": 10
         },
         "tickmode": "array",
         "ticktext": [
          "Bloody Murder",
          "You Can't Lose What You Ain't Never Had",
          "Night Time Is the Right Time",
          "Chewin' Woman Blues",
          "Loan Me Your Husband",
          "Blues in the Air - Take 2",
          "The Bear Mash Blues",
          "Jackass Blues",
          "Blues in the Dark",
          "Wrong Side Of The Road",
          "St. James Infirmary - Digitally Remastered 00",
          "I Want a Little Sugar In My Bowl",
          "Dr. Feelgood (Love Is Serious Business)",
          "Riot In Cell Block Number Nine",
          "Last Night",
          "Hoodoo Man Blues"
         ],
         "tickvals": [
          1,
          2,
          3,
          4,
          5,
          6,
          7,
          8,
          9,
          10,
          11,
          12,
          13,
          14,
          15
         ],
         "type": "linear"
        },
        "yaxis": {
         "anchor": "x",
         "autorange": true,
         "domain": [
          0,
          1
         ],
         "range": [
          0.040432279909706534,
          1.0205677200902934
         ],
         "title": {
          "text": "energy/danceability/valence"
         },
         "type": "linear"
        },
        "yaxis2": {
         "anchor": "x",
         "autorange": true,
         "overlaying": "y",
         "range": [
          56.947206546275396,
          217.8877934537246
         ],
         "side": "right",
         "title": {
          "text": "Tempo in beats per minute"
         },
         "type": "linear"
        }
       }
      },
      "image/png": "[encoded data removed]",
      "text/html": [
       "<div>\n",
       "        \n",
       "        \n",
       "            <div id=\"d3ea83eb-1c05-4af1-9b22-f1366e732c88\" class=\"plotly-graph-div\" style=\"height:525px; width:100%;\"></div>\n",
       "            <script type=\"text/javascript\">\n",
       "                require([\"plotly\"], function(Plotly) {\n",
       "                    window.PLOTLYENV=window.PLOTLYENV || {};\n",
       "                    \n",
       "                if (document.getElementById(\"d3ea83eb-1c05-4af1-9b22-f1366e732c88\")) {\n",
       "                    Plotly.newPlot(\n",
       "                        'd3ea83eb-1c05-4af1-9b22-f1366e732c88',\n",
       "                        [{\"mode\": \"lines+markers\", \"name\": \"energy\", \"type\": \"scatter\", \"x\": [1, 2, 3, 4, 5, 6, 7, 8, 9, 10, 11, 12, 13, 14, 15], \"xaxis\": \"x\", \"y\": [0.242, 0.382, 0.61, 0.17, 0.248, 0.222, 0.187, 0.474, 0.113, 0.377, 0.497, 0.312, 0.4, 0.305, 0.297, 0.324], \"yaxis\": \"y\"}, {\"mode\": \"lines+markers\", \"name\": \"danceability\", \"type\": \"scatter\", \"x\": [1, 2, 3, 4, 5, 6, 7, 8, 9, 10, 11, 12, 13, 14, 15], \"xaxis\": \"x\", \"y\": [0.394, 0.644, 0.356, 0.543, 0.649, 0.591, 0.461, 0.681, 0.517, 0.588, 0.666, 0.626, 0.631, 0.735, 0.435, 0.708], \"yaxis\": \"y\"}, {\"mode\": \"lines+markers\", \"name\": \"valence\", \"type\": \"scatter\", \"x\": [1, 2, 3, 4, 5, 6, 7, 8, 9, 10, 11, 12, 13, 14, 15], \"xaxis\": \"x\", \"y\": [0.333, 0.614, 0.617, 0.697, 0.5, 0.518, 0.343, 0.948, 0.414, 0.388, 0.587, 0.298, 0.452, 0.612, 0.489, 0.638], \"yaxis\": \"y\"}, {\"name\": \"tempo/bpm\", \"type\": \"scatter\", \"x\": [1, 2, 3, 4, 5, 6, 7, 8, 9, 10, 11, 12, 13, 14, 15], \"xaxis\": \"x\", \"y\": [178.908, 72.353, 205.972, 92.944, 94.504, 81.116, 68.863, 114.295, 77.639, 115.0, 113.621, 98.708, 139.888, 97.075, 84.625, 103.924], \"yaxis\": \"y2\"}],\n",
       "                        {\"clickmode\": \"event+select\", \"template\": {\"data\": {\"bar\": [{\"error_x\": {\"color\": \"rgb(36,36,36)\"}, \"error_y\": {\"color\": \"rgb(36,36,36)\"}, \"marker\": {\"line\": {\"color\": \"white\", \"width\": 0.5}}, \"type\": \"bar\"}], \"barpolar\": [{\"marker\": {\"line\": {\"color\": \"white\", \"width\": 0.5}}, \"type\": \"barpolar\"}], \"carpet\": [{\"aaxis\": {\"endlinecolor\": \"rgb(36,36,36)\", \"gridcolor\": \"white\", \"linecolor\": \"white\", \"minorgridcolor\": \"white\", \"startlinecolor\": \"rgb(36,36,36)\"}, \"baxis\": {\"endlinecolor\": \"rgb(36,36,36)\", \"gridcolor\": \"white\", \"linecolor\": \"white\", \"minorgridcolor\": \"white\", \"startlinecolor\": \"rgb(36,36,36)\"}, \"type\": \"carpet\"}], \"choropleth\": [{\"colorbar\": {\"outlinewidth\": 1, \"tickcolor\": \"rgb(36,36,36)\", \"ticks\": \"outside\"}, \"type\": \"choropleth\"}], \"contour\": [{\"colorbar\": {\"outlinewidth\": 1, \"tickcolor\": \"rgb(36,36,36)\", \"ticks\": \"outside\"}, \"colorscale\": [[0.0, \"#440154\"], [0.1111111111111111, \"#482878\"], [0.2222222222222222, \"#3e4989\"], [0.3333333333333333, \"#31688e\"], [0.4444444444444444, \"#26828e\"], [0.5555555555555556, \"#1f9e89\"], [0.6666666666666666, \"#35b779\"], [0.7777777777777778, \"#6ece58\"], [0.8888888888888888, \"#b5de2b\"], [1.0, \"#fde725\"]], \"type\": \"contour\"}], \"contourcarpet\": [{\"colorbar\": {\"outlinewidth\": 1, \"tickcolor\": \"rgb(36,36,36)\", \"ticks\": \"outside\"}, \"type\": \"contourcarpet\"}], \"heatmap\": [{\"colorbar\": {\"outlinewidth\": 1, \"tickcolor\": \"rgb(36,36,36)\", \"ticks\": \"outside\"}, \"colorscale\": [[0.0, \"#440154\"], [0.1111111111111111, \"#482878\"], [0.2222222222222222, \"#3e4989\"], [0.3333333333333333, \"#31688e\"], [0.4444444444444444, \"#26828e\"], [0.5555555555555556, \"#1f9e89\"], [0.6666666666666666, \"#35b779\"], [0.7777777777777778, \"#6ece58\"], [0.8888888888888888, \"#b5de2b\"], [1.0, \"#fde725\"]], \"type\": \"heatmap\"}], \"heatmapgl\": [{\"colorbar\": {\"outlinewidth\": 1, \"tickcolor\": \"rgb(36,36,36)\", \"ticks\": \"outside\"}, \"colorscale\": [[0.0, \"#440154\"], [0.1111111111111111, \"#482878\"], [0.2222222222222222, \"#3e4989\"], [0.3333333333333333, \"#31688e\"], [0.4444444444444444, \"#26828e\"], [0.5555555555555556, \"#1f9e89\"], [0.6666666666666666, \"#35b779\"], [0.7777777777777778, \"#6ece58\"], [0.8888888888888888, \"#b5de2b\"], [1.0, \"#fde725\"]], \"type\": \"heatmapgl\"}], \"histogram\": [{\"marker\": {\"line\": {\"color\": \"white\", \"width\": 0.6}}, \"type\": \"histogram\"}], \"histogram2d\": [{\"colorbar\": {\"outlinewidth\": 1, \"tickcolor\": \"rgb(36,36,36)\", \"ticks\": \"outside\"}, \"colorscale\": [[0.0, \"#440154\"], [0.1111111111111111, \"#482878\"], [0.2222222222222222, \"#3e4989\"], [0.3333333333333333, \"#31688e\"], [0.4444444444444444, \"#26828e\"], [0.5555555555555556, \"#1f9e89\"], [0.6666666666666666, \"#35b779\"], [0.7777777777777778, \"#6ece58\"], [0.8888888888888888, \"#b5de2b\"], [1.0, \"#fde725\"]], \"type\": \"histogram2d\"}], \"histogram2dcontour\": [{\"colorbar\": {\"outlinewidth\": 1, \"tickcolor\": \"rgb(36,36,36)\", \"ticks\": \"outside\"}, \"colorscale\": [[0.0, \"#440154\"], [0.1111111111111111, \"#482878\"], [0.2222222222222222, \"#3e4989\"], [0.3333333333333333, \"#31688e\"], [0.4444444444444444, \"#26828e\"], [0.5555555555555556, \"#1f9e89\"], [0.6666666666666666, \"#35b779\"], [0.7777777777777778, \"#6ece58\"], [0.8888888888888888, \"#b5de2b\"], [1.0, \"#fde725\"]], \"type\": \"histogram2dcontour\"}], \"mesh3d\": [{\"colorbar\": {\"outlinewidth\": 1, \"tickcolor\": \"rgb(36,36,36)\", \"ticks\": \"outside\"}, \"type\": \"mesh3d\"}], \"parcoords\": [{\"line\": {\"colorbar\": {\"outlinewidth\": 1, \"tickcolor\": \"rgb(36,36,36)\", \"ticks\": \"outside\"}}, \"type\": \"parcoords\"}], \"pie\": [{\"automargin\": true, \"type\": \"pie\"}], \"scatter\": [{\"marker\": {\"colorbar\": {\"outlinewidth\": 1, \"tickcolor\": \"rgb(36,36,36)\", \"ticks\": \"outside\"}}, \"type\": \"scatter\"}], \"scatter3d\": [{\"line\": {\"colorbar\": {\"outlinewidth\": 1, \"tickcolor\": \"rgb(36,36,36)\", \"ticks\": \"outside\"}}, \"marker\": {\"colorbar\": {\"outlinewidth\": 1, \"tickcolor\": \"rgb(36,36,36)\", \"ticks\": \"outside\"}}, \"type\": \"scatter3d\"}], \"scattercarpet\": [{\"marker\": {\"colorbar\": {\"outlinewidth\": 1, \"tickcolor\": \"rgb(36,36,36)\", \"ticks\": \"outside\"}}, \"type\": \"scattercarpet\"}], \"scattergeo\": [{\"marker\": {\"colorbar\": {\"outlinewidth\": 1, \"tickcolor\": \"rgb(36,36,36)\", \"ticks\": \"outside\"}}, \"type\": \"scattergeo\"}], \"scattergl\": [{\"marker\": {\"colorbar\": {\"outlinewidth\": 1, \"tickcolor\": \"rgb(36,36,36)\", \"ticks\": \"outside\"}}, \"type\": \"scattergl\"}], \"scattermapbox\": [{\"marker\": {\"colorbar\": {\"outlinewidth\": 1, \"tickcolor\": \"rgb(36,36,36)\", \"ticks\": \"outside\"}}, \"type\": \"scattermapbox\"}], \"scatterpolar\": [{\"marker\": {\"colorbar\": {\"outlinewidth\": 1, \"tickcolor\": \"rgb(36,36,36)\", \"ticks\": \"outside\"}}, \"type\": \"scatterpolar\"}], \"scatterpolargl\": [{\"marker\": {\"colorbar\": {\"outlinewidth\": 1, \"tickcolor\": \"rgb(36,36,36)\", \"ticks\": \"outside\"}}, \"type\": \"scatterpolargl\"}], \"scatterternary\": [{\"marker\": {\"colorbar\": {\"outlinewidth\": 1, \"tickcolor\": \"rgb(36,36,36)\", \"ticks\": \"outside\"}}, \"type\": \"scatterternary\"}], \"surface\": [{\"colorbar\": {\"outlinewidth\": 1, \"tickcolor\": \"rgb(36,36,36)\", \"ticks\": \"outside\"}, \"colorscale\": [[0.0, \"#440154\"], [0.1111111111111111, \"#482878\"], [0.2222222222222222, \"#3e4989\"], [0.3333333333333333, \"#31688e\"], [0.4444444444444444, \"#26828e\"], [0.5555555555555556, \"#1f9e89\"], [0.6666666666666666, \"#35b779\"], [0.7777777777777778, \"#6ece58\"], [0.8888888888888888, \"#b5de2b\"], [1.0, \"#fde725\"]], \"type\": \"surface\"}], \"table\": [{\"cells\": {\"fill\": {\"color\": \"rgb(237,237,237)\"}, \"line\": {\"color\": \"white\"}}, \"header\": {\"fill\": {\"color\": \"rgb(217,217,217)\"}, \"line\": {\"color\": \"white\"}}, \"type\": \"table\"}]}, \"layout\": {\"annotationdefaults\": {\"arrowhead\": 0, \"arrowwidth\": 1}, \"coloraxis\": {\"colorbar\": {\"outlinewidth\": 1, \"tickcolor\": \"rgb(36,36,36)\", \"ticks\": \"outside\"}}, \"colorscale\": {\"diverging\": [[0.0, \"rgb(103,0,31)\"], [0.1, \"rgb(178,24,43)\"], [0.2, \"rgb(214,96,77)\"], [0.3, \"rgb(244,165,130)\"], [0.4, \"rgb(253,219,199)\"], [0.5, \"rgb(247,247,247)\"], [0.6, \"rgb(209,229,240)\"], [0.7, \"rgb(146,197,222)\"], [0.8, \"rgb(67,147,195)\"], [0.9, \"rgb(33,102,172)\"], [1.0, \"rgb(5,48,97)\"]], \"sequential\": [[0.0, \"#440154\"], [0.1111111111111111, \"#482878\"], [0.2222222222222222, \"#3e4989\"], [0.3333333333333333, \"#31688e\"], [0.4444444444444444, \"#26828e\"], [0.5555555555555556, \"#1f9e89\"], [0.6666666666666666, \"#35b779\"], [0.7777777777777778, \"#6ece58\"], [0.8888888888888888, \"#b5de2b\"], [1.0, \"#fde725\"]], \"sequentialminus\": [[0.0, \"#440154\"], [0.1111111111111111, \"#482878\"], [0.2222222222222222, \"#3e4989\"], [0.3333333333333333, \"#31688e\"], [0.4444444444444444, \"#26828e\"], [0.5555555555555556, \"#1f9e89\"], [0.6666666666666666, \"#35b779\"], [0.7777777777777778, \"#6ece58\"], [0.8888888888888888, \"#b5de2b\"], [1.0, \"#fde725\"]]}, \"colorway\": [\"#1F77B4\", \"#FF7F0E\", \"#2CA02C\", \"#D62728\", \"#9467BD\", \"#8C564B\", \"#E377C2\", \"#7F7F7F\", \"#BCBD22\", \"#17BECF\"], \"font\": {\"color\": \"rgb(36,36,36)\"}, \"geo\": {\"bgcolor\": \"white\", \"lakecolor\": \"white\", \"landcolor\": \"white\", \"showlakes\": true, \"showland\": true, \"subunitcolor\": \"white\"}, \"hoverlabel\": {\"align\": \"left\"}, \"hovermode\": \"closest\", \"mapbox\": {\"style\": \"light\"}, \"paper_bgcolor\": \"white\", \"plot_bgcolor\": \"white\", \"polar\": {\"angularaxis\": {\"gridcolor\": \"rgb(232,232,232)\", \"linecolor\": \"rgb(36,36,36)\", \"showgrid\": false, \"showline\": true, \"ticks\": \"outside\"}, \"bgcolor\": \"white\", \"radialaxis\": {\"gridcolor\": \"rgb(232,232,232)\", \"linecolor\": \"rgb(36,36,36)\", \"showgrid\": false, \"showline\": true, \"ticks\": \"outside\"}}, \"scene\": {\"xaxis\": {\"backgroundcolor\": \"white\", \"gridcolor\": \"rgb(232,232,232)\", \"gridwidth\": 2, \"linecolor\": \"rgb(36,36,36)\", \"showbackground\": true, \"showgrid\": false, \"showline\": true, \"ticks\": \"outside\", \"zeroline\": false, \"zerolinecolor\": \"rgb(36,36,36)\"}, \"yaxis\": {\"backgroundcolor\": \"white\", \"gridcolor\": \"rgb(232,232,232)\", \"gridwidth\": 2, \"linecolor\": \"rgb(36,36,36)\", \"showbackground\": true, \"showgrid\": false, \"showline\": true, \"ticks\": \"outside\", \"zeroline\": false, \"zerolinecolor\": \"rgb(36,36,36)\"}, \"zaxis\": {\"backgroundcolor\": \"white\", \"gridcolor\": \"rgb(232,232,232)\", \"gridwidth\": 2, \"linecolor\": \"rgb(36,36,36)\", \"showbackground\": true, \"showgrid\": false, \"showline\": true, \"ticks\": \"outside\", \"zeroline\": false, \"zerolinecolor\": \"rgb(36,36,36)\"}}, \"shapedefaults\": {\"fillcolor\": \"black\", \"line\": {\"width\": 0}, \"opacity\": 0.3}, \"ternary\": {\"aaxis\": {\"gridcolor\": \"rgb(232,232,232)\", \"linecolor\": \"rgb(36,36,36)\", \"showgrid\": false, \"showline\": true, \"ticks\": \"outside\"}, \"baxis\": {\"gridcolor\": \"rgb(232,232,232)\", \"linecolor\": \"rgb(36,36,36)\", \"showgrid\": false, \"showline\": true, \"ticks\": \"outside\"}, \"bgcolor\": \"white\", \"caxis\": {\"gridcolor\": \"rgb(232,232,232)\", \"linecolor\": \"rgb(36,36,36)\", \"showgrid\": false, \"showline\": true, \"ticks\": \"outside\"}}, \"title\": {\"x\": 0.05}, \"xaxis\": {\"automargin\": true, \"gridcolor\": \"rgb(232,232,232)\", \"linecolor\": \"rgb(36,36,36)\", \"showgrid\": false, \"showline\": true, \"ticks\": \"outside\", \"title\": {\"standoff\": 15}, \"zeroline\": false, \"zerolinecolor\": \"rgb(36,36,36)\"}, \"yaxis\": {\"automargin\": true, \"gridcolor\": \"rgb(232,232,232)\", \"linecolor\": \"rgb(36,36,36)\", \"showgrid\": false, \"showline\": true, \"ticks\": \"outside\", \"title\": {\"standoff\": 15}, \"zeroline\": false, \"zerolinecolor\": \"rgb(36,36,36)\"}}}, \"title\": {\"text\": \"Cider House Blues Sunday\"}, \"xaxis\": {\"anchor\": \"y\", \"domain\": [0.0, 0.94], \"dtick\": 1, \"tick0\": 1, \"tickangle\": 45, \"tickfont\": {\"size\": 10}, \"tickmode\": \"array\", \"ticktext\": [\"Bloody Murder\", \"You Can't Lose What You Ain't Never Had\", \"Night Time Is the Right Time\", \"Chewin' Woman Blues\", \"Loan Me Your Husband\", \"Blues in the Air - Take 2\", \"The Bear Mash Blues\", \"Jackass Blues\", \"Blues in the Dark\", \"Wrong Side Of The Road\", \"St. James Infirmary - Digitally Remastered 00\", \"I Want a Little Sugar In My Bowl\", \"Dr. Feelgood (Love Is Serious Business)\", \"Riot In Cell Block Number Nine\", \"Last Night\", \"Hoodoo Man Blues\"], \"tickvals\": [1, 2, 3, 4, 5, 6, 7, 8, 9, 10, 11, 12, 13, 14, 15]}, \"yaxis\": {\"anchor\": \"x\", \"domain\": [0.0, 1.0], \"title\": {\"text\": \"energy/danceability/valence\"}}, \"yaxis2\": {\"anchor\": \"x\", \"overlaying\": \"y\", \"side\": \"right\", \"title\": {\"text\": \"Tempo in beats per minute\"}}},\n",
       "                        {\"responsive\": true}\n",
       "                    ).then(function(){\n",
       "                            \n",
       "var gd = document.getElementById('d3ea83eb-1c05-4af1-9b22-f1366e732c88');\n",
       "var x = new MutationObserver(function (mutations, observer) {{\n",
       "        var display = window.getComputedStyle(gd).display;\n",
       "        if (!display || display === 'none') {{\n",
       "            console.log([gd, 'removed!']);\n",
       "            Plotly.purge(gd);\n",
       "            observer.disconnect();\n",
       "        }}\n",
       "}});\n",
       "\n",
       "// Listen for the removal of the full notebook cells\n",
       "var notebookContainer = gd.closest('#notebook-container');\n",
       "if (notebookContainer) {{\n",
       "    x.observe(notebookContainer, {childList: true});\n",
       "}}\n",
       "\n",
       "// Listen for the clearing of the current output cell\n",
       "var outputEl = gd.closest('.output');\n",
       "if (outputEl) {{\n",
       "    x.observe(outputEl, {childList: true});\n",
       "}}\n",
       "\n",
       "                        })\n",
       "                };\n",
       "                });\n",
       "            </script>\n",
       "        </div>"
      ]
     },
     "metadata": {},
     "output_type": "display_data"
    }
   ],
   "source": [
    "plot_playlist_data(features, names)"
   ]
  },
  {
   "cell_type": "code",
   "execution_count": 14,
   "metadata": {},
   "outputs": [],
   "source": [
    "playlist_tracks = sp.playlist_tracks(playlist_uri)['items']\n",
    "song_uris = [track['track']['uri'] for track in playlist_tracks]"
   ]
  },
  {
   "cell_type": "code",
   "execution_count": 53,
   "metadata": {},
   "outputs": [],
   "source": [
    "@lru_cache()\n",
    "def get_audio_analysis(song_uri):\n",
    "    return sp.audio_analysis(song_uri)"
   ]
  },
  {
   "cell_type": "code",
   "execution_count": 15,
   "metadata": {},
   "outputs": [],
   "source": [
    "audio_analyses = []\n",
    "for song_uri in song_uris:\n",
    "    audio_analysis_results = get_audio_analysis(song_uri)\n",
    "    audio_analyses.append(audio_analysis_results)"
   ]
  },
  {
   "cell_type": "code",
   "execution_count": 25,
   "metadata": {},
   "outputs": [],
   "source": [
    "durations = [feature['duration_ms'] for feature in features]"
   ]
  },
  {
   "cell_type": "code",
   "execution_count": null,
   "metadata": {},
   "outputs": [],
   "source": [
    "## try and plot loudness/tempo by section across the entire playlist"
   ]
  },
  {
   "cell_type": "code",
   "execution_count": 111,
   "metadata": {},
   "outputs": [
    {
     "data": {
      "application/vnd.plotly.v1+json": {
       "config": {
        "plotlyServerURL": "https://plot.ly"
       },
       "data": [
        {
         "line": {
          "color": "#d62728",
          "shape": "hv"
         },
         "mode": "lines",
         "name": "loudness",
         "type": "scatter",
         "x": [
          0,
          17.08179,
          50.19817,
          65.20658,
          89.89042,
          98.85596,
          114.28446,
          137.1276,
          169.63517,
          192.89722,
          212.10667,
          227.89345,
          239.48099000000002,
          267.59082,
          280.1744,
          319.00598,
          345.42022,
          359.57615,
          377.1691,
          391.86667,
          399.79617,
          414.32339,
          421.83489,
          434.8028,
          467.89351,
          479.99967,
          497.17606,
          510.00656,
          529.66901,
          540.87521,
          563.59357,
          595.4207,
          609.92103,
          622.99436,
          631.62014,
          651.9657500000001,
          670.9101800000001,
          677.18667,
          684.59694,
          699.2787800000001,
          710.0596,
          722.68347,
          737.8295700000001,
          750.81329,
          772.6867500000001,
          786.9427700000001,
          814.2493300000001,
          835.69258,
          852.4266700000001,
          866.34454,
          882.4987600000001,
          920.1879600000001,
          933.3715000000001,
          943.38503,
          1017.0790200000001,
          1019.0878900000001,
          1032.7522000000001,
          1043.9450800000002,
          1065.91801,
          1117.13103,
          1143.3724800000002,
          1174.00023,
          1184.82123,
          1193.11368,
          1200.2829,
          1216.6188,
          1230.52439,
          1243.86146,
          1268.07427,
          1280.9459,
          1317.90024,
          1324.95439,
          1341.61797,
          1356.15325,
          1386.20359,
          1406.01313,
          1456.09924,
          1473.38123,
          1507.14695,
          1517.81703,
          1550.69174,
          1567.2030399999999,
          1598.44248,
          1618.72669,
          1631.26349,
          1644.2078900000001,
          1658.61875,
          1670.0833400000001,
          1687.70774,
          1697.5703400000002,
          1727.26908,
          1763.0273200000001,
          1788.9035800000001,
          1826.1094200000002,
          1838.06599,
          1856.81895,
          1878.65468,
          1906.4049800000003,
          1925.4345600000001,
          1970.96324,
          2000.6903800000002,
          2013.26043,
          2022.6599700000002,
          2034.1587000000002,
          2045.6254900000001,
          2063.53579,
          2099.10219,
          2113.4757200000004,
          2126.7360900000003,
          2138.25506,
          2157.75298,
          2168.3679,
          2225.70101,
          2239.5412300000003,
          2252.0124,
          2265.5147600000005,
          2279.91298,
          2287.26726,
          2340.6169600000003,
          2355.11191,
          2477.5802000000003,
          2487.7412300000005,
          2496.0848700000006,
          2511.2504600000007,
          2527.5780400000003,
          2536.1144800000006,
          2564.6599400000005,
          2593.3798000000006,
          2622.7353800000005,
          2635.4675700000007,
          2639.8479000000007,
          2662.582700000001,
          2675.4784300000006,
          2688.2855100000006,
          2704.8812700000008,
          2723.093950000001,
          2744.240230000001,
          2786.9037200000007,
          2807.4400500000006,
          2831.471470000001,
          2838.407900000001,
          2877.585670000001,
          2896.119510000001,
          2936.334130000001,
          2966.645920000001,
          2980.8691000000013,
          3003.136390000001,
          3032.497650000001,
          3052.042190000001,
          3070.081290000001,
          3097.902520000001,
          3122.331950000001,
          3134.710180000001,
          3143.338520000001,
          3173.0067000000013,
          3194.8126800000014,
          3207.575020000001,
          3224.358690000001,
          3251.0966700000013,
          3260.7088300000014,
          3284.3135800000014,
          3297.3357500000016,
          3305.6423100000015,
          3322.5432100000016,
          3346.8352000000014,
          3363.6152500000017,
          3371.0122400000014,
          3384.8391800000018,
          3396.4027500000016,
          3413.9562700000015
         ],
         "xaxis": "x",
         "y": [
          -15.29,
          -14.604,
          -13.549,
          -13.578,
          -17.869,
          -13.914,
          -15.147,
          -14.498,
          -15.381,
          -11.747,
          -15.147,
          -10.033,
          -9.313,
          -9.015,
          -9.769,
          -10.599,
          -8.294,
          -8.654,
          -9.107,
          -19.184,
          -8.259,
          -11.343,
          -7.409,
          -7.395,
          -6.716,
          -6.129,
          -6.192,
          -5.908,
          -12.511,
          -12.07,
          -4.671,
          -4.632,
          -6.2,
          -5.128,
          -6.022,
          -6.309,
          -23.491,
          -21.538,
          -13.171,
          -14.051,
          -11.556,
          -13.908,
          -13.585,
          -15.247,
          -13.238,
          -16.604,
          -11.436,
          -11.71,
          -9.08,
          -8.667,
          -8.627,
          -10.081,
          -7.919,
          -7.993,
          -56.19,
          -13.709,
          -10.65,
          -9.908,
          -8.545,
          -10.749,
          -9.546,
          -10.335,
          -14.613,
          -14.701,
          -15.958,
          -17.088,
          -15.95,
          -15.33,
          -16.911,
          -16.083,
          -17.494,
          -16.254,
          -16.435,
          -15.763,
          -15.109,
          -15.813,
          -14.937,
          -14.271,
          -12.588,
          -13.391,
          -14.237,
          -13.173,
          -12.69,
          -14.046,
          -12.009,
          -21.692,
          -19.706,
          -19.327,
          -19.904,
          -19.114,
          -21.719,
          -24.361,
          -19.785,
          -18.387,
          -15.322,
          -16.139,
          -22.001,
          -15.175,
          -14.846,
          -13.348,
          -13.3,
          -15.103,
          -12.672,
          -14.22,
          -11.939,
          -11.6,
          -12.217,
          -11.572,
          -11.651,
          -10.397,
          -11.131,
          -11.466,
          -34.255,
          -18.456,
          -15.447,
          -18.405,
          -18.855,
          -12.367,
          -12.462,
          -11.055,
          -12.861,
          -19.425,
          -9.665,
          -12.331,
          -9.331,
          -8.157,
          -9.592,
          -7.387,
          -9.823,
          -40.72,
          -13.055,
          -9.863,
          -8.833,
          -7.288,
          -8.801,
          -8.125,
          -6.122,
          -8.352,
          -7.298,
          -16.041,
          -15.183,
          -10.644,
          -13.218,
          -9.354,
          -13.825,
          -9.191,
          -9.534,
          -16.747,
          -15.12,
          -14.993,
          -15.369,
          -13.357,
          -15.682,
          -14.569,
          -15.91,
          -17.472,
          -17.838,
          -15.552,
          -15.966,
          -15.262,
          -10.907,
          -16.752,
          -12.464,
          -13.24,
          -13.361,
          -13.798,
          -12.518,
          -11.458,
          -13.781,
          -13.521
         ],
         "yaxis": "y"
        },
        {
         "line": {
          "color": "#9467bd",
          "shape": "hv"
         },
         "mode": "lines",
         "name": "tempo",
         "type": "scatter",
         "x": [
          0,
          17.08179,
          50.19817,
          65.20658,
          89.89042,
          98.85596,
          114.28446,
          137.1276,
          169.63517,
          192.89722,
          212.10667,
          227.89345,
          239.48099000000002,
          267.59082,
          280.1744,
          319.00598,
          345.42022,
          359.57615,
          377.1691,
          391.86667,
          399.79617,
          414.32339,
          421.83489,
          434.8028,
          467.89351,
          479.99967,
          497.17606,
          510.00656,
          529.66901,
          540.87521,
          563.59357,
          595.4207,
          609.92103,
          622.99436,
          631.62014,
          651.9657500000001,
          670.9101800000001,
          677.18667,
          684.59694,
          699.2787800000001,
          710.0596,
          722.68347,
          737.8295700000001,
          750.81329,
          772.6867500000001,
          786.9427700000001,
          814.2493300000001,
          835.69258,
          852.4266700000001,
          866.34454,
          882.4987600000001,
          920.1879600000001,
          933.3715000000001,
          943.38503,
          1017.0790200000001,
          1019.0878900000001,
          1032.7522000000001,
          1043.9450800000002,
          1065.91801,
          1117.13103,
          1143.3724800000002,
          1174.00023,
          1184.82123,
          1193.11368,
          1200.2829,
          1216.6188,
          1230.52439,
          1243.86146,
          1268.07427,
          1280.9459,
          1317.90024,
          1324.95439,
          1341.61797,
          1356.15325,
          1386.20359,
          1406.01313,
          1456.09924,
          1473.38123,
          1507.14695,
          1517.81703,
          1550.69174,
          1567.2030399999999,
          1598.44248,
          1618.72669,
          1631.26349,
          1644.2078900000001,
          1658.61875,
          1670.0833400000001,
          1687.70774,
          1697.5703400000002,
          1727.26908,
          1763.0273200000001,
          1788.9035800000001,
          1826.1094200000002,
          1838.06599,
          1856.81895,
          1878.65468,
          1906.4049800000003,
          1925.4345600000001,
          1970.96324,
          2000.6903800000002,
          2013.26043,
          2022.6599700000002,
          2034.1587000000002,
          2045.6254900000001,
          2063.53579,
          2099.10219,
          2113.4757200000004,
          2126.7360900000003,
          2138.25506,
          2157.75298,
          2168.3679,
          2225.70101,
          2239.5412300000003,
          2252.0124,
          2265.5147600000005,
          2279.91298,
          2287.26726,
          2340.6169600000003,
          2355.11191,
          2477.5802000000003,
          2487.7412300000005,
          2496.0848700000006,
          2511.2504600000007,
          2527.5780400000003,
          2536.1144800000006,
          2564.6599400000005,
          2593.3798000000006,
          2622.7353800000005,
          2635.4675700000007,
          2639.8479000000007,
          2662.582700000001,
          2675.4784300000006,
          2688.2855100000006,
          2704.8812700000008,
          2723.093950000001,
          2744.240230000001,
          2786.9037200000007,
          2807.4400500000006,
          2831.471470000001,
          2838.407900000001,
          2877.585670000001,
          2896.119510000001,
          2936.334130000001,
          2966.645920000001,
          2980.8691000000013,
          3003.136390000001,
          3032.497650000001,
          3052.042190000001,
          3070.081290000001,
          3097.902520000001,
          3122.331950000001,
          3134.710180000001,
          3143.338520000001,
          3173.0067000000013,
          3194.8126800000014,
          3207.575020000001,
          3224.358690000001,
          3251.0966700000013,
          3260.7088300000014,
          3284.3135800000014,
          3297.3357500000016,
          3305.6423100000015,
          3322.5432100000016,
          3346.8352000000014,
          3363.6152500000017,
          3371.0122400000014,
          3384.8391800000018,
          3396.4027500000016,
          3413.9562700000015
         ],
         "xaxis": "x",
         "y": [
          179.87,
          179.894,
          176.22,
          177.117,
          181.668,
          181.458,
          183.956,
          180.988,
          177.932,
          173.377,
          73.588,
          73.225,
          72.396,
          72.19,
          72.48,
          72.671,
          72.04,
          71.127,
          71.474,
          203.036,
          205.94,
          205.55,
          206.257,
          206.533,
          204.542,
          207.201,
          200.522,
          204.715,
          204.586,
          205.812,
          207.432,
          207.269,
          207.271,
          208.717,
          206.502,
          206.002,
          205.241,
          138.118,
          138.857,
          132.206,
          133.427,
          90.534,
          88.598,
          94.166,
          92.243,
          93.367,
          92.654,
          94.393,
          97.579,
          93.5,
          94.475,
          97.063,
          95.62,
          94.584,
          0,
          87.59,
          85.785,
          83.105,
          80.208,
          80.126,
          78.231,
          81.082,
          66.745,
          67.44,
          66.983,
          69.049,
          67.914,
          66.779,
          65.459,
          68.158,
          68.772,
          68.976,
          70.795,
          67.441,
          69.557,
          68.367,
          69.882,
          112.751,
          112.072,
          113.225,
          116.432,
          115.569,
          115.799,
          114.863,
          112.831,
          83.753,
          84.131,
          81.723,
          79.933,
          78.568,
          77.011,
          76.087,
          77.319,
          80.756,
          76.962,
          77.837,
          77.931,
          77.708,
          119.006,
          115.677,
          114.369,
          115.092,
          114.809,
          115.327,
          113.981,
          114.677,
          113.654,
          113.326,
          114.92,
          117.284,
          111.584,
          78.408,
          77.542,
          107.51,
          120.474,
          112.125,
          116.06,
          112.979,
          115.486,
          113.864,
          112.375,
          100.09,
          99.306,
          98.365,
          98.883,
          98.677,
          98.99,
          98.85,
          98.231,
          0,
          140.069,
          140.496,
          140.677,
          141.234,
          137.955,
          139.718,
          141.946,
          141.308,
          142.081,
          144.643,
          97.098,
          97.125,
          97.11,
          97.078,
          97.256,
          96.909,
          97.191,
          81.529,
          79.948,
          81.76,
          83.922,
          82.565,
          83.809,
          85.544,
          85.782,
          84.973,
          86.107,
          85.611,
          87.16,
          86.771,
          86.54,
          101.999,
          102.645,
          104.535,
          103.777,
          105.877,
          104.329,
          105.226,
          103.022,
          103.209
         ],
         "yaxis": "y2"
        }
       ],
       "layout": {
        "autosize": true,
        "legend": {
         "orientation": "h",
         "x": 0.74,
         "y": 1.1
        },
        "shapes": [
         {
          "line": {
           "color": "darkgrey",
           "width": 1
          },
          "type": "line",
          "x0": 212.10667,
          "x1": 212.10667,
          "y0": -66.19,
          "y1": 2.75
         },
         {
          "line": {
           "color": "darkgrey",
           "width": 1
          },
          "type": "line",
          "x0": 391.86667,
          "x1": 391.86667,
          "y0": -66.19,
          "y1": 2.75
         },
         {
          "line": {
           "color": "darkgrey",
           "width": 1
          },
          "type": "line",
          "x0": 677.18667,
          "x1": 677.18667,
          "y0": -66.19,
          "y1": 2.75
         },
         {
          "line": {
           "color": "darkgrey",
           "width": 1
          },
          "type": "line",
          "x0": 852.4266700000001,
          "x1": 852.4266700000001,
          "y0": -66.19,
          "y1": 2.75
         },
         {
          "line": {
           "color": "darkgrey",
           "width": 1
          },
          "type": "line",
          "x0": 1019.0878900000001,
          "x1": 1019.0878900000001,
          "y0": -66.19,
          "y1": 2.75
         },
         {
          "line": {
           "color": "darkgrey",
           "width": 1
          },
          "type": "line",
          "x0": 1184.82123,
          "x1": 1184.82123,
          "y0": -66.19,
          "y1": 2.75
         },
         {
          "line": {
           "color": "darkgrey",
           "width": 1
          },
          "type": "line",
          "x0": 1473.38123,
          "x1": 1473.38123,
          "y0": -66.19,
          "y1": 2.75
         },
         {
          "line": {
           "color": "darkgrey",
           "width": 1
          },
          "type": "line",
          "x0": 1644.2078900000001,
          "x1": 1644.2078900000001,
          "y0": -66.19,
          "y1": 2.75
         },
         {
          "line": {
           "color": "darkgrey",
           "width": 1
          },
          "type": "line",
          "x0": 1925.4345600000001,
          "x1": 1925.4345600000001,
          "y0": -66.19,
          "y1": 2.75
         },
         {
          "line": {
           "color": "darkgrey",
           "width": 1
          },
          "type": "line",
          "x0": 2239.5412300000003,
          "x1": 2239.5412300000003,
          "y0": -66.19,
          "y1": 2.75
         },
         {
          "line": {
           "color": "darkgrey",
           "width": 1
          },
          "type": "line",
          "x0": 2487.7412300000005,
          "x1": 2487.7412300000005,
          "y0": -66.19,
          "y1": 2.75
         },
         {
          "line": {
           "color": "darkgrey",
           "width": 1
          },
          "type": "line",
          "x0": 2639.8479000000007,
          "x1": 2639.8479000000007,
          "y0": -66.19,
          "y1": 2.75
         },
         {
          "line": {
           "color": "darkgrey",
           "width": 1
          },
          "type": "line",
          "x0": 2838.407900000001,
          "x1": 2838.407900000001,
          "y0": -66.19,
          "y1": 2.75
         },
         {
          "line": {
           "color": "darkgrey",
           "width": 1
          },
          "type": "line",
          "x0": 3032.497650000001,
          "x1": 3032.497650000001,
          "y0": -66.19,
          "y1": 2.75
         },
         {
          "line": {
           "color": "darkgrey",
           "width": 1
          },
          "type": "line",
          "x0": 3297.3357500000016,
          "x1": 3297.3357500000016,
          "y0": -66.19,
          "y1": 2.75
         },
         {
          "line": {
           "color": "darkgrey",
           "width": 1
          },
          "type": "line",
          "x0": 3424.2690800000014,
          "x1": 3424.2690800000014,
          "y0": -66.19,
          "y1": 2.75
         }
        ],
        "template": {
         "data": {
          "bar": [
           {
            "error_x": {
             "color": "#f2f5fa"
            },
            "error_y": {
             "color": "#f2f5fa"
            },
            "marker": {
             "line": {
              "color": "rgb(17,17,17)",
              "width": 0.5
             }
            },
            "type": "bar"
           }
          ],
          "barpolar": [
           {
            "marker": {
             "line": {
              "color": "rgb(17,17,17)",
              "width": 0.5
             }
            },
            "type": "barpolar"
           }
          ],
          "carpet": [
           {
            "aaxis": {
             "endlinecolor": "#A2B1C6",
             "gridcolor": "#506784",
             "linecolor": "#506784",
             "minorgridcolor": "#506784",
             "startlinecolor": "#A2B1C6"
            },
            "baxis": {
             "endlinecolor": "#A2B1C6",
             "gridcolor": "#506784",
             "linecolor": "#506784",
             "minorgridcolor": "#506784",
             "startlinecolor": "#A2B1C6"
            },
            "type": "carpet"
           }
          ],
          "choropleth": [
           {
            "colorbar": {
             "outlinewidth": 0,
             "ticks": ""
            },
            "type": "choropleth"
           }
          ],
          "contour": [
           {
            "colorbar": {
             "outlinewidth": 0,
             "ticks": ""
            },
            "colorscale": [
             [
              0,
              "#0d0887"
             ],
             [
              0.1111111111111111,
              "#46039f"
             ],
             [
              0.2222222222222222,
              "#7201a8"
             ],
             [
              0.3333333333333333,
              "#9c179e"
             ],
             [
              0.4444444444444444,
              "#bd3786"
             ],
             [
              0.5555555555555556,
              "#d8576b"
             ],
             [
              0.6666666666666666,
              "#ed7953"
             ],
             [
              0.7777777777777778,
              "#fb9f3a"
             ],
             [
              0.8888888888888888,
              "#fdca26"
             ],
             [
              1,
              "#f0f921"
             ]
            ],
            "type": "contour"
           }
          ],
          "contourcarpet": [
           {
            "colorbar": {
             "outlinewidth": 0,
             "ticks": ""
            },
            "type": "contourcarpet"
           }
          ],
          "heatmap": [
           {
            "colorbar": {
             "outlinewidth": 0,
             "ticks": ""
            },
            "colorscale": [
             [
              0,
              "#0d0887"
             ],
             [
              0.1111111111111111,
              "#46039f"
             ],
             [
              0.2222222222222222,
              "#7201a8"
             ],
             [
              0.3333333333333333,
              "#9c179e"
             ],
             [
              0.4444444444444444,
              "#bd3786"
             ],
             [
              0.5555555555555556,
              "#d8576b"
             ],
             [
              0.6666666666666666,
              "#ed7953"
             ],
             [
              0.7777777777777778,
              "#fb9f3a"
             ],
             [
              0.8888888888888888,
              "#fdca26"
             ],
             [
              1,
              "#f0f921"
             ]
            ],
            "type": "heatmap"
           }
          ],
          "heatmapgl": [
           {
            "colorbar": {
             "outlinewidth": 0,
             "ticks": ""
            },
            "colorscale": [
             [
              0,
              "#0d0887"
             ],
             [
              0.1111111111111111,
              "#46039f"
             ],
             [
              0.2222222222222222,
              "#7201a8"
             ],
             [
              0.3333333333333333,
              "#9c179e"
             ],
             [
              0.4444444444444444,
              "#bd3786"
             ],
             [
              0.5555555555555556,
              "#d8576b"
             ],
             [
              0.6666666666666666,
              "#ed7953"
             ],
             [
              0.7777777777777778,
              "#fb9f3a"
             ],
             [
              0.8888888888888888,
              "#fdca26"
             ],
             [
              1,
              "#f0f921"
             ]
            ],
            "type": "heatmapgl"
           }
          ],
          "histogram": [
           {
            "marker": {
             "colorbar": {
              "outlinewidth": 0,
              "ticks": ""
             }
            },
            "type": "histogram"
           }
          ],
          "histogram2d": [
           {
            "colorbar": {
             "outlinewidth": 0,
             "ticks": ""
            },
            "colorscale": [
             [
              0,
              "#0d0887"
             ],
             [
              0.1111111111111111,
              "#46039f"
             ],
             [
              0.2222222222222222,
              "#7201a8"
             ],
             [
              0.3333333333333333,
              "#9c179e"
             ],
             [
              0.4444444444444444,
              "#bd3786"
             ],
             [
              0.5555555555555556,
              "#d8576b"
             ],
             [
              0.6666666666666666,
              "#ed7953"
             ],
             [
              0.7777777777777778,
              "#fb9f3a"
             ],
             [
              0.8888888888888888,
              "#fdca26"
             ],
             [
              1,
              "#f0f921"
             ]
            ],
            "type": "histogram2d"
           }
          ],
          "histogram2dcontour": [
           {
            "colorbar": {
             "outlinewidth": 0,
             "ticks": ""
            },
            "colorscale": [
             [
              0,
              "#0d0887"
             ],
             [
              0.1111111111111111,
              "#46039f"
             ],
             [
              0.2222222222222222,
              "#7201a8"
             ],
             [
              0.3333333333333333,
              "#9c179e"
             ],
             [
              0.4444444444444444,
              "#bd3786"
             ],
             [
              0.5555555555555556,
              "#d8576b"
             ],
             [
              0.6666666666666666,
              "#ed7953"
             ],
             [
              0.7777777777777778,
              "#fb9f3a"
             ],
             [
              0.8888888888888888,
              "#fdca26"
             ],
             [
              1,
              "#f0f921"
             ]
            ],
            "type": "histogram2dcontour"
           }
          ],
          "mesh3d": [
           {
            "colorbar": {
             "outlinewidth": 0,
             "ticks": ""
            },
            "type": "mesh3d"
           }
          ],
          "parcoords": [
           {
            "line": {
             "colorbar": {
              "outlinewidth": 0,
              "ticks": ""
             }
            },
            "type": "parcoords"
           }
          ],
          "pie": [
           {
            "automargin": true,
            "type": "pie"
           }
          ],
          "scatter": [
           {
            "marker": {
             "line": {
              "color": "#283442"
             }
            },
            "type": "scatter"
           }
          ],
          "scatter3d": [
           {
            "line": {
             "colorbar": {
              "outlinewidth": 0,
              "ticks": ""
             }
            },
            "marker": {
             "colorbar": {
              "outlinewidth": 0,
              "ticks": ""
             }
            },
            "type": "scatter3d"
           }
          ],
          "scattercarpet": [
           {
            "marker": {
             "colorbar": {
              "outlinewidth": 0,
              "ticks": ""
             }
            },
            "type": "scattercarpet"
           }
          ],
          "scattergeo": [
           {
            "marker": {
             "colorbar": {
              "outlinewidth": 0,
              "ticks": ""
             }
            },
            "type": "scattergeo"
           }
          ],
          "scattergl": [
           {
            "marker": {
             "line": {
              "color": "#283442"
             }
            },
            "type": "scattergl"
           }
          ],
          "scattermapbox": [
           {
            "marker": {
             "colorbar": {
              "outlinewidth": 0,
              "ticks": ""
             }
            },
            "type": "scattermapbox"
           }
          ],
          "scatterpolar": [
           {
            "marker": {
             "colorbar": {
              "outlinewidth": 0,
              "ticks": ""
             }
            },
            "type": "scatterpolar"
           }
          ],
          "scatterpolargl": [
           {
            "marker": {
             "colorbar": {
              "outlinewidth": 0,
              "ticks": ""
             }
            },
            "type": "scatterpolargl"
           }
          ],
          "scatterternary": [
           {
            "marker": {
             "colorbar": {
              "outlinewidth": 0,
              "ticks": ""
             }
            },
            "type": "scatterternary"
           }
          ],
          "surface": [
           {
            "colorbar": {
             "outlinewidth": 0,
             "ticks": ""
            },
            "colorscale": [
             [
              0,
              "#0d0887"
             ],
             [
              0.1111111111111111,
              "#46039f"
             ],
             [
              0.2222222222222222,
              "#7201a8"
             ],
             [
              0.3333333333333333,
              "#9c179e"
             ],
             [
              0.4444444444444444,
              "#bd3786"
             ],
             [
              0.5555555555555556,
              "#d8576b"
             ],
             [
              0.6666666666666666,
              "#ed7953"
             ],
             [
              0.7777777777777778,
              "#fb9f3a"
             ],
             [
              0.8888888888888888,
              "#fdca26"
             ],
             [
              1,
              "#f0f921"
             ]
            ],
            "type": "surface"
           }
          ],
          "table": [
           {
            "cells": {
             "fill": {
              "color": "#506784"
             },
             "line": {
              "color": "rgb(17,17,17)"
             }
            },
            "header": {
             "fill": {
              "color": "#2a3f5f"
             },
             "line": {
              "color": "rgb(17,17,17)"
             }
            },
            "type": "table"
           }
          ]
         },
         "layout": {
          "annotationdefaults": {
           "arrowcolor": "#f2f5fa",
           "arrowhead": 0,
           "arrowwidth": 1
          },
          "coloraxis": {
           "colorbar": {
            "outlinewidth": 0,
            "ticks": ""
           }
          },
          "colorscale": {
           "diverging": [
            [
             0,
             "#8e0152"
            ],
            [
             0.1,
             "#c51b7d"
            ],
            [
             0.2,
             "#de77ae"
            ],
            [
             0.3,
             "#f1b6da"
            ],
            [
             0.4,
             "#fde0ef"
            ],
            [
             0.5,
             "#f7f7f7"
            ],
            [
             0.6,
             "#e6f5d0"
            ],
            [
             0.7,
             "#b8e186"
            ],
            [
             0.8,
             "#7fbc41"
            ],
            [
             0.9,
             "#4d9221"
            ],
            [
             1,
             "#276419"
            ]
           ],
           "sequential": [
            [
             0,
             "#0d0887"
            ],
            [
             0.1111111111111111,
             "#46039f"
            ],
            [
             0.2222222222222222,
             "#7201a8"
            ],
            [
             0.3333333333333333,
             "#9c179e"
            ],
            [
             0.4444444444444444,
             "#bd3786"
            ],
            [
             0.5555555555555556,
             "#d8576b"
            ],
            [
             0.6666666666666666,
             "#ed7953"
            ],
            [
             0.7777777777777778,
             "#fb9f3a"
            ],
            [
             0.8888888888888888,
             "#fdca26"
            ],
            [
             1,
             "#f0f921"
            ]
           ],
           "sequentialminus": [
            [
             0,
             "#0d0887"
            ],
            [
             0.1111111111111111,
             "#46039f"
            ],
            [
             0.2222222222222222,
             "#7201a8"
            ],
            [
             0.3333333333333333,
             "#9c179e"
            ],
            [
             0.4444444444444444,
             "#bd3786"
            ],
            [
             0.5555555555555556,
             "#d8576b"
            ],
            [
             0.6666666666666666,
             "#ed7953"
            ],
            [
             0.7777777777777778,
             "#fb9f3a"
            ],
            [
             0.8888888888888888,
             "#fdca26"
            ],
            [
             1,
             "#f0f921"
            ]
           ]
          },
          "colorway": [
           "#636efa",
           "#EF553B",
           "#00cc96",
           "#ab63fa",
           "#FFA15A",
           "#19d3f3",
           "#FF6692",
           "#B6E880",
           "#FF97FF",
           "#FECB52"
          ],
          "font": {
           "color": "#f2f5fa"
          },
          "geo": {
           "bgcolor": "rgb(17,17,17)",
           "lakecolor": "rgb(17,17,17)",
           "landcolor": "rgb(17,17,17)",
           "showlakes": true,
           "showland": true,
           "subunitcolor": "#506784"
          },
          "hoverlabel": {
           "align": "left"
          },
          "hovermode": "closest",
          "mapbox": {
           "style": "dark"
          },
          "paper_bgcolor": "rgb(17,17,17)",
          "plot_bgcolor": "rgb(17,17,17)",
          "polar": {
           "angularaxis": {
            "gridcolor": "#506784",
            "linecolor": "#506784",
            "ticks": ""
           },
           "bgcolor": "rgb(17,17,17)",
           "radialaxis": {
            "gridcolor": "#506784",
            "linecolor": "#506784",
            "ticks": ""
           }
          },
          "scene": {
           "xaxis": {
            "backgroundcolor": "rgb(17,17,17)",
            "gridcolor": "#506784",
            "gridwidth": 2,
            "linecolor": "#506784",
            "showbackground": true,
            "ticks": "",
            "zerolinecolor": "#C8D4E3"
           },
           "yaxis": {
            "backgroundcolor": "rgb(17,17,17)",
            "gridcolor": "#506784",
            "gridwidth": 2,
            "linecolor": "#506784",
            "showbackground": true,
            "ticks": "",
            "zerolinecolor": "#C8D4E3"
           },
           "zaxis": {
            "backgroundcolor": "rgb(17,17,17)",
            "gridcolor": "#506784",
            "gridwidth": 2,
            "linecolor": "#506784",
            "showbackground": true,
            "ticks": "",
            "zerolinecolor": "#C8D4E3"
           }
          },
          "shapedefaults": {
           "line": {
            "color": "#f2f5fa"
           }
          },
          "sliderdefaults": {
           "bgcolor": "#C8D4E3",
           "bordercolor": "rgb(17,17,17)",
           "borderwidth": 1,
           "tickwidth": 0
          },
          "ternary": {
           "aaxis": {
            "gridcolor": "#506784",
            "linecolor": "#506784",
            "ticks": ""
           },
           "baxis": {
            "gridcolor": "#506784",
            "linecolor": "#506784",
            "ticks": ""
           },
           "bgcolor": "rgb(17,17,17)",
           "caxis": {
            "gridcolor": "#506784",
            "linecolor": "#506784",
            "ticks": ""
           }
          },
          "title": {
           "x": 0.05
          },
          "updatemenudefaults": {
           "bgcolor": "#506784",
           "borderwidth": 0
          },
          "xaxis": {
           "automargin": true,
           "gridcolor": "#283442",
           "linecolor": "#506784",
           "ticks": "",
           "title": {
            "standoff": 15
           },
           "zerolinecolor": "#283442",
           "zerolinewidth": 2
          },
          "yaxis": {
           "automargin": true,
           "gridcolor": "#283442",
           "linecolor": "#506784",
           "ticks": "",
           "title": {
            "standoff": 15
           },
           "zerolinecolor": "#283442",
           "zerolinewidth": 2
          }
         }
        },
        "title": {
         "text": "Cider House Blues Sunday"
        },
        "xaxis": {
         "anchor": "y",
         "autorange": true,
         "domain": [
          0,
          0.94
         ],
         "range": [
          0,
          3426.271810775531
         ],
         "showgrid": false,
         "tickangle": 45,
         "tickfont": {
          "size": 10
         },
         "tickmode": "array",
         "ticktext": [
          "0:03:32",
          "0:06:31",
          "0:11:17",
          "0:14:12",
          "0:16:59",
          "0:19:44",
          "0:24:33",
          "0:27:24",
          "0:32:05",
          "0:37:19",
          "0:41:27",
          "0:43:59",
          "0:47:18",
          "0:50:32",
          "0:54:57",
          "0:57:04"
         ],
         "tickvals": [
          212.10667,
          391.86667,
          677.18667,
          852.4266700000001,
          1019.0878900000001,
          1184.82123,
          1473.38123,
          1644.2078900000001,
          1925.4345600000001,
          2239.5412300000003,
          2487.7412300000005,
          2639.8479000000007,
          2838.407900000001,
          3032.497650000001,
          3297.3357500000016,
          3424.2690800000014
         ],
         "type": "linear"
        },
        "yaxis": {
         "anchor": "x",
         "autorange": true,
         "domain": [
          0,
          1
         ],
         "range": [
          -66.31814126394052,
          2.8781412639405204
         ],
         "showgrid": false,
         "tickfont": {
          "color": "#d62728"
         },
         "title": {
          "font": {
           "color": "#d62728"
          },
          "text": "Loudness in dB"
         },
         "type": "linear"
        },
        "yaxis2": {
         "anchor": "x",
         "autorange": true,
         "overlaying": "y",
         "range": [
          -11.59538888888889,
          220.3123888888889
         ],
         "showgrid": false,
         "side": "right",
         "tickfont": {
          "color": "#9467bd"
         },
         "title": {
          "font": {
           "color": "#9467bd"
          },
          "text": "Tempo in beats per minute"
         },
         "type": "linear"
        }
       }
      },
      "image/png": "[encoded data removed]",
      "text/html": [
       "<div>\n",
       "        \n",
       "        \n",
       "            <div id=\"624d68c7-24a1-478a-9cd4-df72bfd03ac6\" class=\"plotly-graph-div\" style=\"height:525px; width:100%;\"></div>\n",
       "            <script type=\"text/javascript\">\n",
       "                require([\"plotly\"], function(Plotly) {\n",
       "                    window.PLOTLYENV=window.PLOTLYENV || {};\n",
       "                    \n",
       "                if (document.getElementById(\"624d68c7-24a1-478a-9cd4-df72bfd03ac6\")) {\n",
       "                    Plotly.newPlot(\n",
       "                        '624d68c7-24a1-478a-9cd4-df72bfd03ac6',\n",
       "                        [{\"line\": {\"color\": \"#d62728\", \"shape\": \"hv\"}, \"mode\": \"lines\", \"name\": \"loudness\", \"type\": \"scatter\", \"x\": [0.0, 17.08179, 50.19817, 65.20658, 89.89042, 98.85596, 114.28446, 137.1276, 169.63517, 192.89722, 212.10667, 227.89345, 239.48099000000002, 267.59082, 280.1744, 319.00598, 345.42022, 359.57615, 377.1691, 391.86667, 399.79617, 414.32339, 421.83489, 434.8028, 467.89351, 479.99967, 497.17606, 510.00656, 529.66901, 540.87521, 563.59357, 595.4207, 609.92103, 622.99436, 631.62014, 651.9657500000001, 670.9101800000001, 677.18667, 684.59694, 699.2787800000001, 710.0596, 722.68347, 737.8295700000001, 750.81329, 772.6867500000001, 786.9427700000001, 814.2493300000001, 835.69258, 852.4266700000001, 866.34454, 882.4987600000001, 920.1879600000001, 933.3715000000001, 943.38503, 1017.0790200000001, 1019.0878900000001, 1032.7522000000001, 1043.9450800000002, 1065.91801, 1117.13103, 1143.3724800000002, 1174.00023, 1184.82123, 1193.11368, 1200.2829, 1216.6188, 1230.52439, 1243.86146, 1268.07427, 1280.9459, 1317.90024, 1324.95439, 1341.61797, 1356.15325, 1386.20359, 1406.01313, 1456.09924, 1473.38123, 1507.14695, 1517.81703, 1550.69174, 1567.2030399999999, 1598.44248, 1618.72669, 1631.26349, 1644.2078900000001, 1658.61875, 1670.0833400000001, 1687.70774, 1697.5703400000002, 1727.26908, 1763.0273200000001, 1788.9035800000001, 1826.1094200000002, 1838.06599, 1856.81895, 1878.65468, 1906.4049800000003, 1925.4345600000001, 1970.96324, 2000.6903800000002, 2013.26043, 2022.6599700000002, 2034.1587000000002, 2045.6254900000001, 2063.53579, 2099.10219, 2113.4757200000004, 2126.7360900000003, 2138.25506, 2157.75298, 2168.3679, 2225.70101, 2239.5412300000003, 2252.0124, 2265.5147600000005, 2279.91298, 2287.26726, 2340.6169600000003, 2355.11191, 2477.5802000000003, 2487.7412300000005, 2496.0848700000006, 2511.2504600000007, 2527.5780400000003, 2536.1144800000006, 2564.6599400000005, 2593.3798000000006, 2622.7353800000005, 2635.4675700000007, 2639.8479000000007, 2662.582700000001, 2675.4784300000006, 2688.2855100000006, 2704.8812700000008, 2723.093950000001, 2744.240230000001, 2786.9037200000007, 2807.4400500000006, 2831.471470000001, 2838.407900000001, 2877.585670000001, 2896.119510000001, 2936.334130000001, 2966.645920000001, 2980.8691000000013, 3003.136390000001, 3032.497650000001, 3052.042190000001, 3070.081290000001, 3097.902520000001, 3122.331950000001, 3134.710180000001, 3143.338520000001, 3173.0067000000013, 3194.8126800000014, 3207.575020000001, 3224.358690000001, 3251.0966700000013, 3260.7088300000014, 3284.3135800000014, 3297.3357500000016, 3305.6423100000015, 3322.5432100000016, 3346.8352000000014, 3363.6152500000017, 3371.0122400000014, 3384.8391800000018, 3396.4027500000016, 3413.9562700000015], \"xaxis\": \"x\", \"y\": [-15.29, -14.604, -13.549, -13.578, -17.869, -13.914, -15.147, -14.498, -15.381, -11.747, -15.147, -10.033, -9.313, -9.015, -9.769, -10.599, -8.294, -8.654, -9.107, -19.184, -8.259, -11.343, -7.409, -7.395, -6.716, -6.129, -6.192, -5.908, -12.511, -12.07, -4.671, -4.632, -6.2, -5.128, -6.022, -6.309, -23.491, -21.538, -13.171, -14.051, -11.556, -13.908, -13.585, -15.247, -13.238, -16.604, -11.436, -11.71, -9.08, -8.667, -8.627, -10.081, -7.919, -7.993, -56.19, -13.709, -10.65, -9.908, -8.545, -10.749, -9.546, -10.335, -14.613, -14.701, -15.958, -17.088, -15.95, -15.33, -16.911, -16.083, -17.494, -16.254, -16.435, -15.763, -15.109, -15.813, -14.937, -14.271, -12.588, -13.391, -14.237, -13.173, -12.69, -14.046, -12.009, -21.692, -19.706, -19.327, -19.904, -19.114, -21.719, -24.361, -19.785, -18.387, -15.322, -16.139, -22.001, -15.175, -14.846, -13.348, -13.3, -15.103, -12.672, -14.22, -11.939, -11.6, -12.217, -11.572, -11.651, -10.397, -11.131, -11.466, -34.255, -18.456, -15.447, -18.405, -18.855, -12.367, -12.462, -11.055, -12.861, -19.425, -9.665, -12.331, -9.331, -8.157, -9.592, -7.387, -9.823, -40.72, -13.055, -9.863, -8.833, -7.288, -8.801, -8.125, -6.122, -8.352, -7.298, -16.041, -15.183, -10.644, -13.218, -9.354, -13.825, -9.191, -9.534, -16.747, -15.12, -14.993, -15.369, -13.357, -15.682, -14.569, -15.91, -17.472, -17.838, -15.552, -15.966, -15.262, -10.907, -16.752, -12.464, -13.24, -13.361, -13.798, -12.518, -11.458, -13.781, -13.521], \"yaxis\": \"y\"}, {\"line\": {\"color\": \"#9467bd\", \"shape\": \"hv\"}, \"mode\": \"lines\", \"name\": \"tempo\", \"type\": \"scatter\", \"x\": [0.0, 17.08179, 50.19817, 65.20658, 89.89042, 98.85596, 114.28446, 137.1276, 169.63517, 192.89722, 212.10667, 227.89345, 239.48099000000002, 267.59082, 280.1744, 319.00598, 345.42022, 359.57615, 377.1691, 391.86667, 399.79617, 414.32339, 421.83489, 434.8028, 467.89351, 479.99967, 497.17606, 510.00656, 529.66901, 540.87521, 563.59357, 595.4207, 609.92103, 622.99436, 631.62014, 651.9657500000001, 670.9101800000001, 677.18667, 684.59694, 699.2787800000001, 710.0596, 722.68347, 737.8295700000001, 750.81329, 772.6867500000001, 786.9427700000001, 814.2493300000001, 835.69258, 852.4266700000001, 866.34454, 882.4987600000001, 920.1879600000001, 933.3715000000001, 943.38503, 1017.0790200000001, 1019.0878900000001, 1032.7522000000001, 1043.9450800000002, 1065.91801, 1117.13103, 1143.3724800000002, 1174.00023, 1184.82123, 1193.11368, 1200.2829, 1216.6188, 1230.52439, 1243.86146, 1268.07427, 1280.9459, 1317.90024, 1324.95439, 1341.61797, 1356.15325, 1386.20359, 1406.01313, 1456.09924, 1473.38123, 1507.14695, 1517.81703, 1550.69174, 1567.2030399999999, 1598.44248, 1618.72669, 1631.26349, 1644.2078900000001, 1658.61875, 1670.0833400000001, 1687.70774, 1697.5703400000002, 1727.26908, 1763.0273200000001, 1788.9035800000001, 1826.1094200000002, 1838.06599, 1856.81895, 1878.65468, 1906.4049800000003, 1925.4345600000001, 1970.96324, 2000.6903800000002, 2013.26043, 2022.6599700000002, 2034.1587000000002, 2045.6254900000001, 2063.53579, 2099.10219, 2113.4757200000004, 2126.7360900000003, 2138.25506, 2157.75298, 2168.3679, 2225.70101, 2239.5412300000003, 2252.0124, 2265.5147600000005, 2279.91298, 2287.26726, 2340.6169600000003, 2355.11191, 2477.5802000000003, 2487.7412300000005, 2496.0848700000006, 2511.2504600000007, 2527.5780400000003, 2536.1144800000006, 2564.6599400000005, 2593.3798000000006, 2622.7353800000005, 2635.4675700000007, 2639.8479000000007, 2662.582700000001, 2675.4784300000006, 2688.2855100000006, 2704.8812700000008, 2723.093950000001, 2744.240230000001, 2786.9037200000007, 2807.4400500000006, 2831.471470000001, 2838.407900000001, 2877.585670000001, 2896.119510000001, 2936.334130000001, 2966.645920000001, 2980.8691000000013, 3003.136390000001, 3032.497650000001, 3052.042190000001, 3070.081290000001, 3097.902520000001, 3122.331950000001, 3134.710180000001, 3143.338520000001, 3173.0067000000013, 3194.8126800000014, 3207.575020000001, 3224.358690000001, 3251.0966700000013, 3260.7088300000014, 3284.3135800000014, 3297.3357500000016, 3305.6423100000015, 3322.5432100000016, 3346.8352000000014, 3363.6152500000017, 3371.0122400000014, 3384.8391800000018, 3396.4027500000016, 3413.9562700000015], \"xaxis\": \"x\", \"y\": [179.87, 179.894, 176.22, 177.117, 181.668, 181.458, 183.956, 180.988, 177.932, 173.377, 73.588, 73.225, 72.396, 72.19, 72.48, 72.671, 72.04, 71.127, 71.474, 203.036, 205.94, 205.55, 206.257, 206.533, 204.542, 207.201, 200.522, 204.715, 204.586, 205.812, 207.432, 207.269, 207.271, 208.717, 206.502, 206.002, 205.241, 138.118, 138.857, 132.206, 133.427, 90.534, 88.598, 94.166, 92.243, 93.367, 92.654, 94.393, 97.579, 93.5, 94.475, 97.063, 95.62, 94.584, 0.0, 87.59, 85.785, 83.105, 80.208, 80.126, 78.231, 81.082, 66.745, 67.44, 66.983, 69.049, 67.914, 66.779, 65.459, 68.158, 68.772, 68.976, 70.795, 67.441, 69.557, 68.367, 69.882, 112.751, 112.072, 113.225, 116.432, 115.569, 115.799, 114.863, 112.831, 83.753, 84.131, 81.723, 79.933, 78.568, 77.011, 76.087, 77.319, 80.756, 76.962, 77.837, 77.931, 77.708, 119.006, 115.677, 114.369, 115.092, 114.809, 115.327, 113.981, 114.677, 113.654, 113.326, 114.92, 117.284, 111.584, 78.408, 77.542, 107.51, 120.474, 112.125, 116.06, 112.979, 115.486, 113.864, 112.375, 100.09, 99.306, 98.365, 98.883, 98.677, 98.99, 98.85, 98.231, 0.0, 140.069, 140.496, 140.677, 141.234, 137.955, 139.718, 141.946, 141.308, 142.081, 144.643, 97.098, 97.125, 97.11, 97.078, 97.256, 96.909, 97.191, 81.529, 79.948, 81.76, 83.922, 82.565, 83.809, 85.544, 85.782, 84.973, 86.107, 85.611, 87.16, 86.771, 86.54, 101.999, 102.645, 104.535, 103.777, 105.877, 104.329, 105.226, 103.022, 103.209], \"yaxis\": \"y2\"}],\n",
       "                        {\"legend\": {\"orientation\": \"h\", \"x\": 0.74, \"y\": 1.1}, \"shapes\": [{\"line\": {\"color\": \"darkgrey\", \"width\": 1}, \"type\": \"line\", \"x0\": 212.10667, \"x1\": 212.10667, \"y0\": -66.19, \"y1\": null}, {\"line\": {\"color\": \"darkgrey\", \"width\": 1}, \"type\": \"line\", \"x0\": 391.86667, \"x1\": 391.86667, \"y0\": -66.19, \"y1\": null}, {\"line\": {\"color\": \"darkgrey\", \"width\": 1}, \"type\": \"line\", \"x0\": 677.18667, \"x1\": 677.18667, \"y0\": -66.19, \"y1\": null}, {\"line\": {\"color\": \"darkgrey\", \"width\": 1}, \"type\": \"line\", \"x0\": 852.4266700000001, \"x1\": 852.4266700000001, \"y0\": -66.19, \"y1\": null}, {\"line\": {\"color\": \"darkgrey\", \"width\": 1}, \"type\": \"line\", \"x0\": 1019.0878900000001, \"x1\": 1019.0878900000001, \"y0\": -66.19, \"y1\": null}, {\"line\": {\"color\": \"darkgrey\", \"width\": 1}, \"type\": \"line\", \"x0\": 1184.82123, \"x1\": 1184.82123, \"y0\": -66.19, \"y1\": null}, {\"line\": {\"color\": \"darkgrey\", \"width\": 1}, \"type\": \"line\", \"x0\": 1473.38123, \"x1\": 1473.38123, \"y0\": -66.19, \"y1\": null}, {\"line\": {\"color\": \"darkgrey\", \"width\": 1}, \"type\": \"line\", \"x0\": 1644.2078900000001, \"x1\": 1644.2078900000001, \"y0\": -66.19, \"y1\": null}, {\"line\": {\"color\": \"darkgrey\", \"width\": 1}, \"type\": \"line\", \"x0\": 1925.4345600000001, \"x1\": 1925.4345600000001, \"y0\": -66.19, \"y1\": null}, {\"line\": {\"color\": \"darkgrey\", \"width\": 1}, \"type\": \"line\", \"x0\": 2239.5412300000003, \"x1\": 2239.5412300000003, \"y0\": -66.19, \"y1\": null}, {\"line\": {\"color\": \"darkgrey\", \"width\": 1}, \"type\": \"line\", \"x0\": 2487.7412300000005, \"x1\": 2487.7412300000005, \"y0\": -66.19, \"y1\": null}, {\"line\": {\"color\": \"darkgrey\", \"width\": 1}, \"type\": \"line\", \"x0\": 2639.8479000000007, \"x1\": 2639.8479000000007, \"y0\": -66.19, \"y1\": null}, {\"line\": {\"color\": \"darkgrey\", \"width\": 1}, \"type\": \"line\", \"x0\": 2838.407900000001, \"x1\": 2838.407900000001, \"y0\": -66.19, \"y1\": null}, {\"line\": {\"color\": \"darkgrey\", \"width\": 1}, \"type\": \"line\", \"x0\": 3032.497650000001, \"x1\": 3032.497650000001, \"y0\": -66.19, \"y1\": null}, {\"line\": {\"color\": \"darkgrey\", \"width\": 1}, \"type\": \"line\", \"x0\": 3297.3357500000016, \"x1\": 3297.3357500000016, \"y0\": -66.19, \"y1\": null}, {\"line\": {\"color\": \"darkgrey\", \"width\": 1}, \"type\": \"line\", \"x0\": 3424.2690800000014, \"x1\": 3424.2690800000014, \"y0\": -66.19, \"y1\": null}], \"template\": {\"data\": {\"bar\": [{\"error_x\": {\"color\": \"#f2f5fa\"}, \"error_y\": {\"color\": \"#f2f5fa\"}, \"marker\": {\"line\": {\"color\": \"rgb(17,17,17)\", \"width\": 0.5}}, \"type\": \"bar\"}], \"barpolar\": [{\"marker\": {\"line\": {\"color\": \"rgb(17,17,17)\", \"width\": 0.5}}, \"type\": \"barpolar\"}], \"carpet\": [{\"aaxis\": {\"endlinecolor\": \"#A2B1C6\", \"gridcolor\": \"#506784\", \"linecolor\": \"#506784\", \"minorgridcolor\": \"#506784\", \"startlinecolor\": \"#A2B1C6\"}, \"baxis\": {\"endlinecolor\": \"#A2B1C6\", \"gridcolor\": \"#506784\", \"linecolor\": \"#506784\", \"minorgridcolor\": \"#506784\", \"startlinecolor\": \"#A2B1C6\"}, \"type\": \"carpet\"}], \"choropleth\": [{\"colorbar\": {\"outlinewidth\": 0, \"ticks\": \"\"}, \"type\": \"choropleth\"}], \"contour\": [{\"colorbar\": {\"outlinewidth\": 0, \"ticks\": \"\"}, \"colorscale\": [[0.0, \"#0d0887\"], [0.1111111111111111, \"#46039f\"], [0.2222222222222222, \"#7201a8\"], [0.3333333333333333, \"#9c179e\"], [0.4444444444444444, \"#bd3786\"], [0.5555555555555556, \"#d8576b\"], [0.6666666666666666, \"#ed7953\"], [0.7777777777777778, \"#fb9f3a\"], [0.8888888888888888, \"#fdca26\"], [1.0, \"#f0f921\"]], \"type\": \"contour\"}], \"contourcarpet\": [{\"colorbar\": {\"outlinewidth\": 0, \"ticks\": \"\"}, \"type\": \"contourcarpet\"}], \"heatmap\": [{\"colorbar\": {\"outlinewidth\": 0, \"ticks\": \"\"}, \"colorscale\": [[0.0, \"#0d0887\"], [0.1111111111111111, \"#46039f\"], [0.2222222222222222, \"#7201a8\"], [0.3333333333333333, \"#9c179e\"], [0.4444444444444444, \"#bd3786\"], [0.5555555555555556, \"#d8576b\"], [0.6666666666666666, \"#ed7953\"], [0.7777777777777778, \"#fb9f3a\"], [0.8888888888888888, \"#fdca26\"], [1.0, \"#f0f921\"]], \"type\": \"heatmap\"}], \"heatmapgl\": [{\"colorbar\": {\"outlinewidth\": 0, \"ticks\": \"\"}, \"colorscale\": [[0.0, \"#0d0887\"], [0.1111111111111111, \"#46039f\"], [0.2222222222222222, \"#7201a8\"], [0.3333333333333333, \"#9c179e\"], [0.4444444444444444, \"#bd3786\"], [0.5555555555555556, \"#d8576b\"], [0.6666666666666666, \"#ed7953\"], [0.7777777777777778, \"#fb9f3a\"], [0.8888888888888888, \"#fdca26\"], [1.0, \"#f0f921\"]], \"type\": \"heatmapgl\"}], \"histogram\": [{\"marker\": {\"colorbar\": {\"outlinewidth\": 0, \"ticks\": \"\"}}, \"type\": \"histogram\"}], \"histogram2d\": [{\"colorbar\": {\"outlinewidth\": 0, \"ticks\": \"\"}, \"colorscale\": [[0.0, \"#0d0887\"], [0.1111111111111111, \"#46039f\"], [0.2222222222222222, \"#7201a8\"], [0.3333333333333333, \"#9c179e\"], [0.4444444444444444, \"#bd3786\"], [0.5555555555555556, \"#d8576b\"], [0.6666666666666666, \"#ed7953\"], [0.7777777777777778, \"#fb9f3a\"], [0.8888888888888888, \"#fdca26\"], [1.0, \"#f0f921\"]], \"type\": \"histogram2d\"}], \"histogram2dcontour\": [{\"colorbar\": {\"outlinewidth\": 0, \"ticks\": \"\"}, \"colorscale\": [[0.0, \"#0d0887\"], [0.1111111111111111, \"#46039f\"], [0.2222222222222222, \"#7201a8\"], [0.3333333333333333, \"#9c179e\"], [0.4444444444444444, \"#bd3786\"], [0.5555555555555556, \"#d8576b\"], [0.6666666666666666, \"#ed7953\"], [0.7777777777777778, \"#fb9f3a\"], [0.8888888888888888, \"#fdca26\"], [1.0, \"#f0f921\"]], \"type\": \"histogram2dcontour\"}], \"mesh3d\": [{\"colorbar\": {\"outlinewidth\": 0, \"ticks\": \"\"}, \"type\": \"mesh3d\"}], \"parcoords\": [{\"line\": {\"colorbar\": {\"outlinewidth\": 0, \"ticks\": \"\"}}, \"type\": \"parcoords\"}], \"pie\": [{\"automargin\": true, \"type\": \"pie\"}], \"scatter\": [{\"marker\": {\"line\": {\"color\": \"#283442\"}}, \"type\": \"scatter\"}], \"scatter3d\": [{\"line\": {\"colorbar\": {\"outlinewidth\": 0, \"ticks\": \"\"}}, \"marker\": {\"colorbar\": {\"outlinewidth\": 0, \"ticks\": \"\"}}, \"type\": \"scatter3d\"}], \"scattercarpet\": [{\"marker\": {\"colorbar\": {\"outlinewidth\": 0, \"ticks\": \"\"}}, \"type\": \"scattercarpet\"}], \"scattergeo\": [{\"marker\": {\"colorbar\": {\"outlinewidth\": 0, \"ticks\": \"\"}}, \"type\": \"scattergeo\"}], \"scattergl\": [{\"marker\": {\"line\": {\"color\": \"#283442\"}}, \"type\": \"scattergl\"}], \"scattermapbox\": [{\"marker\": {\"colorbar\": {\"outlinewidth\": 0, \"ticks\": \"\"}}, \"type\": \"scattermapbox\"}], \"scatterpolar\": [{\"marker\": {\"colorbar\": {\"outlinewidth\": 0, \"ticks\": \"\"}}, \"type\": \"scatterpolar\"}], \"scatterpolargl\": [{\"marker\": {\"colorbar\": {\"outlinewidth\": 0, \"ticks\": \"\"}}, \"type\": \"scatterpolargl\"}], \"scatterternary\": [{\"marker\": {\"colorbar\": {\"outlinewidth\": 0, \"ticks\": \"\"}}, \"type\": \"scatterternary\"}], \"surface\": [{\"colorbar\": {\"outlinewidth\": 0, \"ticks\": \"\"}, \"colorscale\": [[0.0, \"#0d0887\"], [0.1111111111111111, \"#46039f\"], [0.2222222222222222, \"#7201a8\"], [0.3333333333333333, \"#9c179e\"], [0.4444444444444444, \"#bd3786\"], [0.5555555555555556, \"#d8576b\"], [0.6666666666666666, \"#ed7953\"], [0.7777777777777778, \"#fb9f3a\"], [0.8888888888888888, \"#fdca26\"], [1.0, \"#f0f921\"]], \"type\": \"surface\"}], \"table\": [{\"cells\": {\"fill\": {\"color\": \"#506784\"}, \"line\": {\"color\": \"rgb(17,17,17)\"}}, \"header\": {\"fill\": {\"color\": \"#2a3f5f\"}, \"line\": {\"color\": \"rgb(17,17,17)\"}}, \"type\": \"table\"}]}, \"layout\": {\"annotationdefaults\": {\"arrowcolor\": \"#f2f5fa\", \"arrowhead\": 0, \"arrowwidth\": 1}, \"coloraxis\": {\"colorbar\": {\"outlinewidth\": 0, \"ticks\": \"\"}}, \"colorscale\": {\"diverging\": [[0, \"#8e0152\"], [0.1, \"#c51b7d\"], [0.2, \"#de77ae\"], [0.3, \"#f1b6da\"], [0.4, \"#fde0ef\"], [0.5, \"#f7f7f7\"], [0.6, \"#e6f5d0\"], [0.7, \"#b8e186\"], [0.8, \"#7fbc41\"], [0.9, \"#4d9221\"], [1, \"#276419\"]], \"sequential\": [[0.0, \"#0d0887\"], [0.1111111111111111, \"#46039f\"], [0.2222222222222222, \"#7201a8\"], [0.3333333333333333, \"#9c179e\"], [0.4444444444444444, \"#bd3786\"], [0.5555555555555556, \"#d8576b\"], [0.6666666666666666, \"#ed7953\"], [0.7777777777777778, \"#fb9f3a\"], [0.8888888888888888, \"#fdca26\"], [1.0, \"#f0f921\"]], \"sequentialminus\": [[0.0, \"#0d0887\"], [0.1111111111111111, \"#46039f\"], [0.2222222222222222, \"#7201a8\"], [0.3333333333333333, \"#9c179e\"], [0.4444444444444444, \"#bd3786\"], [0.5555555555555556, \"#d8576b\"], [0.6666666666666666, \"#ed7953\"], [0.7777777777777778, \"#fb9f3a\"], [0.8888888888888888, \"#fdca26\"], [1.0, \"#f0f921\"]]}, \"colorway\": [\"#636efa\", \"#EF553B\", \"#00cc96\", \"#ab63fa\", \"#FFA15A\", \"#19d3f3\", \"#FF6692\", \"#B6E880\", \"#FF97FF\", \"#FECB52\"], \"font\": {\"color\": \"#f2f5fa\"}, \"geo\": {\"bgcolor\": \"rgb(17,17,17)\", \"lakecolor\": \"rgb(17,17,17)\", \"landcolor\": \"rgb(17,17,17)\", \"showlakes\": true, \"showland\": true, \"subunitcolor\": \"#506784\"}, \"hoverlabel\": {\"align\": \"left\"}, \"hovermode\": \"closest\", \"mapbox\": {\"style\": \"dark\"}, \"paper_bgcolor\": \"rgb(17,17,17)\", \"plot_bgcolor\": \"rgb(17,17,17)\", \"polar\": {\"angularaxis\": {\"gridcolor\": \"#506784\", \"linecolor\": \"#506784\", \"ticks\": \"\"}, \"bgcolor\": \"rgb(17,17,17)\", \"radialaxis\": {\"gridcolor\": \"#506784\", \"linecolor\": \"#506784\", \"ticks\": \"\"}}, \"scene\": {\"xaxis\": {\"backgroundcolor\": \"rgb(17,17,17)\", \"gridcolor\": \"#506784\", \"gridwidth\": 2, \"linecolor\": \"#506784\", \"showbackground\": true, \"ticks\": \"\", \"zerolinecolor\": \"#C8D4E3\"}, \"yaxis\": {\"backgroundcolor\": \"rgb(17,17,17)\", \"gridcolor\": \"#506784\", \"gridwidth\": 2, \"linecolor\": \"#506784\", \"showbackground\": true, \"ticks\": \"\", \"zerolinecolor\": \"#C8D4E3\"}, \"zaxis\": {\"backgroundcolor\": \"rgb(17,17,17)\", \"gridcolor\": \"#506784\", \"gridwidth\": 2, \"linecolor\": \"#506784\", \"showbackground\": true, \"ticks\": \"\", \"zerolinecolor\": \"#C8D4E3\"}}, \"shapedefaults\": {\"line\": {\"color\": \"#f2f5fa\"}}, \"sliderdefaults\": {\"bgcolor\": \"#C8D4E3\", \"bordercolor\": \"rgb(17,17,17)\", \"borderwidth\": 1, \"tickwidth\": 0}, \"ternary\": {\"aaxis\": {\"gridcolor\": \"#506784\", \"linecolor\": \"#506784\", \"ticks\": \"\"}, \"baxis\": {\"gridcolor\": \"#506784\", \"linecolor\": \"#506784\", \"ticks\": \"\"}, \"bgcolor\": \"rgb(17,17,17)\", \"caxis\": {\"gridcolor\": \"#506784\", \"linecolor\": \"#506784\", \"ticks\": \"\"}}, \"title\": {\"x\": 0.05}, \"updatemenudefaults\": {\"bgcolor\": \"#506784\", \"borderwidth\": 0}, \"xaxis\": {\"automargin\": true, \"gridcolor\": \"#283442\", \"linecolor\": \"#506784\", \"ticks\": \"\", \"title\": {\"standoff\": 15}, \"zerolinecolor\": \"#283442\", \"zerolinewidth\": 2}, \"yaxis\": {\"automargin\": true, \"gridcolor\": \"#283442\", \"linecolor\": \"#506784\", \"ticks\": \"\", \"title\": {\"standoff\": 15}, \"zerolinecolor\": \"#283442\", \"zerolinewidth\": 2}}}, \"title\": {\"text\": \"Cider House Blues Sunday\"}, \"xaxis\": {\"anchor\": \"y\", \"domain\": [0.0, 0.94], \"showgrid\": false, \"tickangle\": 45, \"tickfont\": {\"size\": 10}, \"tickmode\": \"array\", \"ticktext\": [\"0:03:32\", \"0:06:31\", \"0:11:17\", \"0:14:12\", \"0:16:59\", \"0:19:44\", \"0:24:33\", \"0:27:24\", \"0:32:05\", \"0:37:19\", \"0:41:27\", \"0:43:59\", \"0:47:18\", \"0:50:32\", \"0:54:57\", \"0:57:04\"], \"tickvals\": [212.10667, 391.86667, 677.18667, 852.4266700000001, 1019.0878900000001, 1184.82123, 1473.38123, 1644.2078900000001, 1925.4345600000001, 2239.5412300000003, 2487.7412300000005, 2639.8479000000007, 2838.407900000001, 3032.497650000001, 3297.3357500000016, 3424.2690800000014]}, \"yaxis\": {\"anchor\": \"x\", \"domain\": [0.0, 1.0], \"showgrid\": false, \"tickfont\": {\"color\": \"#d62728\"}, \"title\": {\"font\": {\"color\": \"#d62728\"}, \"text\": \"Loudness in dB\"}}, \"yaxis2\": {\"anchor\": \"x\", \"overlaying\": \"y\", \"showgrid\": false, \"side\": \"right\", \"tickfont\": {\"color\": \"#9467bd\"}, \"title\": {\"font\": {\"color\": \"#9467bd\"}, \"text\": \"Tempo in beats per minute\"}}},\n",
       "                        {\"responsive\": true}\n",
       "                    ).then(function(){\n",
       "                            \n",
       "var gd = document.getElementById('624d68c7-24a1-478a-9cd4-df72bfd03ac6');\n",
       "var x = new MutationObserver(function (mutations, observer) {{\n",
       "        var display = window.getComputedStyle(gd).display;\n",
       "        if (!display || display === 'none') {{\n",
       "            console.log([gd, 'removed!']);\n",
       "            Plotly.purge(gd);\n",
       "            observer.disconnect();\n",
       "        }}\n",
       "}});\n",
       "\n",
       "// Listen for the removal of the full notebook cells\n",
       "var notebookContainer = gd.closest('#notebook-container');\n",
       "if (notebookContainer) {{\n",
       "    x.observe(notebookContainer, {childList: true});\n",
       "}}\n",
       "\n",
       "// Listen for the clearing of the current output cell\n",
       "var outputEl = gd.closest('.output');\n",
       "if (outputEl) {{\n",
       "    x.observe(outputEl, {childList: true});\n",
       "}}\n",
       "\n",
       "                        })\n",
       "                };\n",
       "                });\n",
       "            </script>\n",
       "        </div>"
      ]
     },
     "metadata": {},
     "output_type": "display_data"
    }
   ],
   "source": [
    "def add_offset_to_array(array, offset):\n",
    "    return [(element+offset) for element in array]\n",
    "    \n",
    "    \n",
    "def plot_all_sections_of_playlist(playlist_uri):\n",
    "    playlist_info = sp.playlist(playlist_uri)\n",
    "    playlist_tracks = sp.playlist_tracks(playlist_uri)['items']\n",
    "    song_uris = [track['track']['uri'] for track in playlist_tracks]\n",
    "    \n",
    "    offset = 0\n",
    "    song_start_times =[]\n",
    "    full_x = []\n",
    "    full_y0 = []\n",
    "    full_y1 = []\n",
    "    \n",
    "    for song in song_uris:\n",
    "            analysis = get_audio_analysis(song)\n",
    "            sections = analysis['sections']\n",
    "\n",
    "            y0 = [section['loudness'] for section in sections]\n",
    "            y1 = [section['tempo'] for section in sections]\n",
    "\n",
    "            start_times = [section['start'] for section in sections]\n",
    "            x = add_offset_to_array(start_times, offset)\n",
    "            offset = offset + sections[-1]['start'] + sections[-1]['duration']\n",
    "\n",
    "            full_x += x\n",
    "            full_y0 += y0\n",
    "            full_y1 += y1\n",
    "            song_start_times.append(offset) \n",
    "    \n",
    "    x_text = [str(timedelta(seconds=int(s))) for s in song_start_times]\n",
    "        \n",
    "    # Create traces\n",
    "    fig = make_subplots(specs=[[{\"secondary_y\": True}]])\n",
    "    \n",
    "    for start_time in song_start_times:\n",
    "        fig.add_shape(dict(type=\"line\", x0=start_time, y0=min(full_y0)-10, x1=start_time, y1=math.inf, \n",
    "                           line=dict(color=\"darkgrey\", width=1)))\n",
    "        \n",
    "    fig.add_trace(\n",
    "        go.Scatter(x=full_x, y=full_y0, mode=\"lines\", name=\"loudness\",line_shape='hv',\n",
    "                   line = dict(color='#d62728')), secondary_y=False,\n",
    "    )\n",
    "    fig.add_trace(\n",
    "        go.Scatter(x=full_x, y=full_y1, mode=\"lines\", name=\"tempo\",line_shape='hv',\n",
    "                   line = dict(color='#9467bd')),secondary_y=True,\n",
    "    )\n",
    "\n",
    "    fig.update_layout(\n",
    "        title_text=f\"{playlist_info['name']}\"#add name when adding to app.py\n",
    "    )\n",
    "\n",
    "    fig.update_layout(yaxis=dict(title=\"Loudness in dB\", titlefont=dict( color=\"#d62728\"), tickfont=dict(color=\"#d62728\")),\n",
    "                      yaxis2=dict(title=\"Tempo in beats per minute\",titlefont=dict(color=\"#9467bd\"), tickfont=dict(color=\"#9467bd\")))\n",
    "\n",
    "    fig.update_layout(legend_orientation=\"h\", legend=dict(x=0.74, y=1.1))\n",
    "    fig.update_layout(xaxis=dict(tickmode=\"array\", tickvals=song_start_times, ticktext=x_text))\n",
    "    fig.update_layout(xaxis_showgrid=False, yaxis_showgrid=False,yaxis2_showgrid=False )\n",
    "    fig.update_layout(template=\"plotly_dark\")\n",
    "    \n",
    "    return fig.show()\n",
    "\n",
    "plot_all_sections_of_playlist(playlist_uri)"
   ]
  },
  {
   "cell_type": "code",
   "execution_count": 126,
   "metadata": {},
   "outputs": [
    {
     "data": {
      "application/vnd.plotly.v1+json": {
       "config": {
        "plotlyServerURL": "https://plot.ly"
       },
       "data": [
        {
         "type": "bar",
         "width": [
          0.6752698921068299,
          0.572289060734081,
          0.9083528861184246,
          0.5578990598745014,
          0.5305867108978788,
          0.5276323036417526,
          0.9186678424867959,
          0.5438497072653586,
          0.895322294632084,
          1,
          0.7901765958733807,
          0.4842521815814356,
          0.6321412766987046,
          0.6179104572645627,
          0.8431458070020725,
          0.40410751750199775
         ],
         "x": [
          1,
          2,
          3,
          4,
          5,
          6,
          7,
          8,
          9,
          10,
          11,
          12,
          13,
          14,
          15
         ],
         "y": [
          0.242,
          0.382,
          0.61,
          0.17,
          0.248,
          0.222,
          0.187,
          0.474,
          0.113,
          0.377,
          0.497,
          0.312,
          0.4,
          0.305,
          0.297,
          0.324
         ]
        }
       ],
       "layout": {
        "autosize": true,
        "bargap": 0,
        "clickmode": "event+select",
        "template": {
         "data": {
          "bar": [
           {
            "error_x": {
             "color": "rgb(36,36,36)"
            },
            "error_y": {
             "color": "rgb(36,36,36)"
            },
            "marker": {
             "line": {
              "color": "white",
              "width": 0.5
             }
            },
            "type": "bar"
           }
          ],
          "barpolar": [
           {
            "marker": {
             "line": {
              "color": "white",
              "width": 0.5
             }
            },
            "type": "barpolar"
           }
          ],
          "carpet": [
           {
            "aaxis": {
             "endlinecolor": "rgb(36,36,36)",
             "gridcolor": "white",
             "linecolor": "white",
             "minorgridcolor": "white",
             "startlinecolor": "rgb(36,36,36)"
            },
            "baxis": {
             "endlinecolor": "rgb(36,36,36)",
             "gridcolor": "white",
             "linecolor": "white",
             "minorgridcolor": "white",
             "startlinecolor": "rgb(36,36,36)"
            },
            "type": "carpet"
           }
          ],
          "choropleth": [
           {
            "colorbar": {
             "outlinewidth": 1,
             "tickcolor": "rgb(36,36,36)",
             "ticks": "outside"
            },
            "type": "choropleth"
           }
          ],
          "contour": [
           {
            "colorbar": {
             "outlinewidth": 1,
             "tickcolor": "rgb(36,36,36)",
             "ticks": "outside"
            },
            "colorscale": [
             [
              0,
              "#440154"
             ],
             [
              0.1111111111111111,
              "#482878"
             ],
             [
              0.2222222222222222,
              "#3e4989"
             ],
             [
              0.3333333333333333,
              "#31688e"
             ],
             [
              0.4444444444444444,
              "#26828e"
             ],
             [
              0.5555555555555556,
              "#1f9e89"
             ],
             [
              0.6666666666666666,
              "#35b779"
             ],
             [
              0.7777777777777778,
              "#6ece58"
             ],
             [
              0.8888888888888888,
              "#b5de2b"
             ],
             [
              1,
              "#fde725"
             ]
            ],
            "type": "contour"
           }
          ],
          "contourcarpet": [
           {
            "colorbar": {
             "outlinewidth": 1,
             "tickcolor": "rgb(36,36,36)",
             "ticks": "outside"
            },
            "type": "contourcarpet"
           }
          ],
          "heatmap": [
           {
            "colorbar": {
             "outlinewidth": 1,
             "tickcolor": "rgb(36,36,36)",
             "ticks": "outside"
            },
            "colorscale": [
             [
              0,
              "#440154"
             ],
             [
              0.1111111111111111,
              "#482878"
             ],
             [
              0.2222222222222222,
              "#3e4989"
             ],
             [
              0.3333333333333333,
              "#31688e"
             ],
             [
              0.4444444444444444,
              "#26828e"
             ],
             [
              0.5555555555555556,
              "#1f9e89"
             ],
             [
              0.6666666666666666,
              "#35b779"
             ],
             [
              0.7777777777777778,
              "#6ece58"
             ],
             [
              0.8888888888888888,
              "#b5de2b"
             ],
             [
              1,
              "#fde725"
             ]
            ],
            "type": "heatmap"
           }
          ],
          "heatmapgl": [
           {
            "colorbar": {
             "outlinewidth": 1,
             "tickcolor": "rgb(36,36,36)",
             "ticks": "outside"
            },
            "colorscale": [
             [
              0,
              "#440154"
             ],
             [
              0.1111111111111111,
              "#482878"
             ],
             [
              0.2222222222222222,
              "#3e4989"
             ],
             [
              0.3333333333333333,
              "#31688e"
             ],
             [
              0.4444444444444444,
              "#26828e"
             ],
             [
              0.5555555555555556,
              "#1f9e89"
             ],
             [
              0.6666666666666666,
              "#35b779"
             ],
             [
              0.7777777777777778,
              "#6ece58"
             ],
             [
              0.8888888888888888,
              "#b5de2b"
             ],
             [
              1,
              "#fde725"
             ]
            ],
            "type": "heatmapgl"
           }
          ],
          "histogram": [
           {
            "marker": {
             "line": {
              "color": "white",
              "width": 0.6
             }
            },
            "type": "histogram"
           }
          ],
          "histogram2d": [
           {
            "colorbar": {
             "outlinewidth": 1,
             "tickcolor": "rgb(36,36,36)",
             "ticks": "outside"
            },
            "colorscale": [
             [
              0,
              "#440154"
             ],
             [
              0.1111111111111111,
              "#482878"
             ],
             [
              0.2222222222222222,
              "#3e4989"
             ],
             [
              0.3333333333333333,
              "#31688e"
             ],
             [
              0.4444444444444444,
              "#26828e"
             ],
             [
              0.5555555555555556,
              "#1f9e89"
             ],
             [
              0.6666666666666666,
              "#35b779"
             ],
             [
              0.7777777777777778,
              "#6ece58"
             ],
             [
              0.8888888888888888,
              "#b5de2b"
             ],
             [
              1,
              "#fde725"
             ]
            ],
            "type": "histogram2d"
           }
          ],
          "histogram2dcontour": [
           {
            "colorbar": {
             "outlinewidth": 1,
             "tickcolor": "rgb(36,36,36)",
             "ticks": "outside"
            },
            "colorscale": [
             [
              0,
              "#440154"
             ],
             [
              0.1111111111111111,
              "#482878"
             ],
             [
              0.2222222222222222,
              "#3e4989"
             ],
             [
              0.3333333333333333,
              "#31688e"
             ],
             [
              0.4444444444444444,
              "#26828e"
             ],
             [
              0.5555555555555556,
              "#1f9e89"
             ],
             [
              0.6666666666666666,
              "#35b779"
             ],
             [
              0.7777777777777778,
              "#6ece58"
             ],
             [
              0.8888888888888888,
              "#b5de2b"
             ],
             [
              1,
              "#fde725"
             ]
            ],
            "type": "histogram2dcontour"
           }
          ],
          "mesh3d": [
           {
            "colorbar": {
             "outlinewidth": 1,
             "tickcolor": "rgb(36,36,36)",
             "ticks": "outside"
            },
            "type": "mesh3d"
           }
          ],
          "parcoords": [
           {
            "line": {
             "colorbar": {
              "outlinewidth": 1,
              "tickcolor": "rgb(36,36,36)",
              "ticks": "outside"
             }
            },
            "type": "parcoords"
           }
          ],
          "pie": [
           {
            "automargin": true,
            "type": "pie"
           }
          ],
          "scatter": [
           {
            "marker": {
             "colorbar": {
              "outlinewidth": 1,
              "tickcolor": "rgb(36,36,36)",
              "ticks": "outside"
             }
            },
            "type": "scatter"
           }
          ],
          "scatter3d": [
           {
            "line": {
             "colorbar": {
              "outlinewidth": 1,
              "tickcolor": "rgb(36,36,36)",
              "ticks": "outside"
             }
            },
            "marker": {
             "colorbar": {
              "outlinewidth": 1,
              "tickcolor": "rgb(36,36,36)",
              "ticks": "outside"
             }
            },
            "type": "scatter3d"
           }
          ],
          "scattercarpet": [
           {
            "marker": {
             "colorbar": {
              "outlinewidth": 1,
              "tickcolor": "rgb(36,36,36)",
              "ticks": "outside"
             }
            },
            "type": "scattercarpet"
           }
          ],
          "scattergeo": [
           {
            "marker": {
             "colorbar": {
              "outlinewidth": 1,
              "tickcolor": "rgb(36,36,36)",
              "ticks": "outside"
             }
            },
            "type": "scattergeo"
           }
          ],
          "scattergl": [
           {
            "marker": {
             "colorbar": {
              "outlinewidth": 1,
              "tickcolor": "rgb(36,36,36)",
              "ticks": "outside"
             }
            },
            "type": "scattergl"
           }
          ],
          "scattermapbox": [
           {
            "marker": {
             "colorbar": {
              "outlinewidth": 1,
              "tickcolor": "rgb(36,36,36)",
              "ticks": "outside"
             }
            },
            "type": "scattermapbox"
           }
          ],
          "scatterpolar": [
           {
            "marker": {
             "colorbar": {
              "outlinewidth": 1,
              "tickcolor": "rgb(36,36,36)",
              "ticks": "outside"
             }
            },
            "type": "scatterpolar"
           }
          ],
          "scatterpolargl": [
           {
            "marker": {
             "colorbar": {
              "outlinewidth": 1,
              "tickcolor": "rgb(36,36,36)",
              "ticks": "outside"
             }
            },
            "type": "scatterpolargl"
           }
          ],
          "scatterternary": [
           {
            "marker": {
             "colorbar": {
              "outlinewidth": 1,
              "tickcolor": "rgb(36,36,36)",
              "ticks": "outside"
             }
            },
            "type": "scatterternary"
           }
          ],
          "surface": [
           {
            "colorbar": {
             "outlinewidth": 1,
             "tickcolor": "rgb(36,36,36)",
             "ticks": "outside"
            },
            "colorscale": [
             [
              0,
              "#440154"
             ],
             [
              0.1111111111111111,
              "#482878"
             ],
             [
              0.2222222222222222,
              "#3e4989"
             ],
             [
              0.3333333333333333,
              "#31688e"
             ],
             [
              0.4444444444444444,
              "#26828e"
             ],
             [
              0.5555555555555556,
              "#1f9e89"
             ],
             [
              0.6666666666666666,
              "#35b779"
             ],
             [
              0.7777777777777778,
              "#6ece58"
             ],
             [
              0.8888888888888888,
              "#b5de2b"
             ],
             [
              1,
              "#fde725"
             ]
            ],
            "type": "surface"
           }
          ],
          "table": [
           {
            "cells": {
             "fill": {
              "color": "rgb(237,237,237)"
             },
             "line": {
              "color": "white"
             }
            },
            "header": {
             "fill": {
              "color": "rgb(217,217,217)"
             },
             "line": {
              "color": "white"
             }
            },
            "type": "table"
           }
          ]
         },
         "layout": {
          "annotationdefaults": {
           "arrowhead": 0,
           "arrowwidth": 1
          },
          "coloraxis": {
           "colorbar": {
            "outlinewidth": 1,
            "tickcolor": "rgb(36,36,36)",
            "ticks": "outside"
           }
          },
          "colorscale": {
           "diverging": [
            [
             0,
             "rgb(103,0,31)"
            ],
            [
             0.1,
             "rgb(178,24,43)"
            ],
            [
             0.2,
             "rgb(214,96,77)"
            ],
            [
             0.3,
             "rgb(244,165,130)"
            ],
            [
             0.4,
             "rgb(253,219,199)"
            ],
            [
             0.5,
             "rgb(247,247,247)"
            ],
            [
             0.6,
             "rgb(209,229,240)"
            ],
            [
             0.7,
             "rgb(146,197,222)"
            ],
            [
             0.8,
             "rgb(67,147,195)"
            ],
            [
             0.9,
             "rgb(33,102,172)"
            ],
            [
             1,
             "rgb(5,48,97)"
            ]
           ],
           "sequential": [
            [
             0,
             "#440154"
            ],
            [
             0.1111111111111111,
             "#482878"
            ],
            [
             0.2222222222222222,
             "#3e4989"
            ],
            [
             0.3333333333333333,
             "#31688e"
            ],
            [
             0.4444444444444444,
             "#26828e"
            ],
            [
             0.5555555555555556,
             "#1f9e89"
            ],
            [
             0.6666666666666666,
             "#35b779"
            ],
            [
             0.7777777777777778,
             "#6ece58"
            ],
            [
             0.8888888888888888,
             "#b5de2b"
            ],
            [
             1,
             "#fde725"
            ]
           ],
           "sequentialminus": [
            [
             0,
             "#440154"
            ],
            [
             0.1111111111111111,
             "#482878"
            ],
            [
             0.2222222222222222,
             "#3e4989"
            ],
            [
             0.3333333333333333,
             "#31688e"
            ],
            [
             0.4444444444444444,
             "#26828e"
            ],
            [
             0.5555555555555556,
             "#1f9e89"
            ],
            [
             0.6666666666666666,
             "#35b779"
            ],
            [
             0.7777777777777778,
             "#6ece58"
            ],
            [
             0.8888888888888888,
             "#b5de2b"
            ],
            [
             1,
             "#fde725"
            ]
           ]
          },
          "colorway": [
           "#1F77B4",
           "#FF7F0E",
           "#2CA02C",
           "#D62728",
           "#9467BD",
           "#8C564B",
           "#E377C2",
           "#7F7F7F",
           "#BCBD22",
           "#17BECF"
          ],
          "font": {
           "color": "rgb(36,36,36)"
          },
          "geo": {
           "bgcolor": "white",
           "lakecolor": "white",
           "landcolor": "white",
           "showlakes": true,
           "showland": true,
           "subunitcolor": "white"
          },
          "hoverlabel": {
           "align": "left"
          },
          "hovermode": "closest",
          "mapbox": {
           "style": "light"
          },
          "paper_bgcolor": "white",
          "plot_bgcolor": "white",
          "polar": {
           "angularaxis": {
            "gridcolor": "rgb(232,232,232)",
            "linecolor": "rgb(36,36,36)",
            "showgrid": false,
            "showline": true,
            "ticks": "outside"
           },
           "bgcolor": "white",
           "radialaxis": {
            "gridcolor": "rgb(232,232,232)",
            "linecolor": "rgb(36,36,36)",
            "showgrid": false,
            "showline": true,
            "ticks": "outside"
           }
          },
          "scene": {
           "xaxis": {
            "backgroundcolor": "white",
            "gridcolor": "rgb(232,232,232)",
            "gridwidth": 2,
            "linecolor": "rgb(36,36,36)",
            "showbackground": true,
            "showgrid": false,
            "showline": true,
            "ticks": "outside",
            "zeroline": false,
            "zerolinecolor": "rgb(36,36,36)"
           },
           "yaxis": {
            "backgroundcolor": "white",
            "gridcolor": "rgb(232,232,232)",
            "gridwidth": 2,
            "linecolor": "rgb(36,36,36)",
            "showbackground": true,
            "showgrid": false,
            "showline": true,
            "ticks": "outside",
            "zeroline": false,
            "zerolinecolor": "rgb(36,36,36)"
           },
           "zaxis": {
            "backgroundcolor": "white",
            "gridcolor": "rgb(232,232,232)",
            "gridwidth": 2,
            "linecolor": "rgb(36,36,36)",
            "showbackground": true,
            "showgrid": false,
            "showline": true,
            "ticks": "outside",
            "zeroline": false,
            "zerolinecolor": "rgb(36,36,36)"
           }
          },
          "shapedefaults": {
           "fillcolor": "black",
           "line": {
            "width": 0
           },
           "opacity": 0.3
          },
          "ternary": {
           "aaxis": {
            "gridcolor": "rgb(232,232,232)",
            "linecolor": "rgb(36,36,36)",
            "showgrid": false,
            "showline": true,
            "ticks": "outside"
           },
           "baxis": {
            "gridcolor": "rgb(232,232,232)",
            "linecolor": "rgb(36,36,36)",
            "showgrid": false,
            "showline": true,
            "ticks": "outside"
           },
           "bgcolor": "white",
           "caxis": {
            "gridcolor": "rgb(232,232,232)",
            "linecolor": "rgb(36,36,36)",
            "showgrid": false,
            "showline": true,
            "ticks": "outside"
           }
          },
          "title": {
           "x": 0.05
          },
          "xaxis": {
           "automargin": true,
           "gridcolor": "rgb(232,232,232)",
           "linecolor": "rgb(36,36,36)",
           "showgrid": false,
           "showline": true,
           "ticks": "outside",
           "title": {
            "standoff": 15
           },
           "zeroline": false,
           "zerolinecolor": "rgb(36,36,36)"
          },
          "yaxis": {
           "automargin": true,
           "gridcolor": "rgb(232,232,232)",
           "linecolor": "rgb(36,36,36)",
           "showgrid": false,
           "showline": true,
           "ticks": "outside",
           "title": {
            "standoff": 15
           },
           "zeroline": false,
           "zerolinecolor": "rgb(36,36,36)"
          }
         }
        },
        "title": {
         "text": "Cider House Blues Sunday"
        },
        "xaxis": {
         "autorange": true,
         "dtick": 1,
         "range": [
          0.5,
          15.5
         ],
         "tick0": 1,
         "tickangle": 45,
         "tickfont": {
          "size": 10
         },
         "tickmode": "array",
         "ticktext": [
          "Bloody Murder",
          "You Can't Lose What You Ain't Never Had",
          "Night Time Is the Right Time",
          "Chewin' Woman Blues",
          "Loan Me Your Husband",
          "Blues in the Air - Take 2",
          "The Bear Mash Blues",
          "Jackass Blues",
          "Blues in the Dark",
          "Wrong Side Of The Road",
          "St. James Infirmary - Digitally Remastered 00",
          "I Want a Little Sugar In My Bowl",
          "Dr. Feelgood (Love Is Serious Business)",
          "Riot In Cell Block Number Nine",
          "Last Night",
          "Hoodoo Man Blues"
         ],
         "tickvals": [
          1,
          2,
          3,
          4,
          5,
          6,
          7,
          8,
          9,
          10,
          11,
          12,
          13,
          14,
          15
         ],
         "type": "linear"
        },
        "yaxis": {
         "autorange": true,
         "range": [
          0,
          0.6421052631578947
         ],
         "title": {
          "text": "energy"
         },
         "type": "linear"
        }
       }
      },
      "image/png": "[encoded data removed]",
      "text/html": [
       "<div>\n",
       "        \n",
       "        \n",
       "            <div id=\"749649f6-cf96-4237-968e-f79fda9173b4\" class=\"plotly-graph-div\" style=\"height:525px; width:100%;\"></div>\n",
       "            <script type=\"text/javascript\">\n",
       "                require([\"plotly\"], function(Plotly) {\n",
       "                    window.PLOTLYENV=window.PLOTLYENV || {};\n",
       "                    \n",
       "                if (document.getElementById(\"749649f6-cf96-4237-968e-f79fda9173b4\")) {\n",
       "                    Plotly.newPlot(\n",
       "                        '749649f6-cf96-4237-968e-f79fda9173b4',\n",
       "                        [{\"type\": \"bar\", \"width\": [0.6752698921068299, 0.572289060734081, 0.9083528861184246, 0.5578990598745014, 0.5305867108978788, 0.5276323036417526, 0.9186678424867959, 0.5438497072653586, 0.895322294632084, 1.0, 0.7901765958733807, 0.4842521815814356, 0.6321412766987046, 0.6179104572645627, 0.8431458070020725, 0.40410751750199775], \"x\": [1, 2, 3, 4, 5, 6, 7, 8, 9, 10, 11, 12, 13, 14, 15], \"y\": [0.242, 0.382, 0.61, 0.17, 0.248, 0.222, 0.187, 0.474, 0.113, 0.377, 0.497, 0.312, 0.4, 0.305, 0.297, 0.324]}],\n",
       "                        {\"bargap\": 0, \"clickmode\": \"event+select\", \"template\": {\"data\": {\"bar\": [{\"error_x\": {\"color\": \"rgb(36,36,36)\"}, \"error_y\": {\"color\": \"rgb(36,36,36)\"}, \"marker\": {\"line\": {\"color\": \"white\", \"width\": 0.5}}, \"type\": \"bar\"}], \"barpolar\": [{\"marker\": {\"line\": {\"color\": \"white\", \"width\": 0.5}}, \"type\": \"barpolar\"}], \"carpet\": [{\"aaxis\": {\"endlinecolor\": \"rgb(36,36,36)\", \"gridcolor\": \"white\", \"linecolor\": \"white\", \"minorgridcolor\": \"white\", \"startlinecolor\": \"rgb(36,36,36)\"}, \"baxis\": {\"endlinecolor\": \"rgb(36,36,36)\", \"gridcolor\": \"white\", \"linecolor\": \"white\", \"minorgridcolor\": \"white\", \"startlinecolor\": \"rgb(36,36,36)\"}, \"type\": \"carpet\"}], \"choropleth\": [{\"colorbar\": {\"outlinewidth\": 1, \"tickcolor\": \"rgb(36,36,36)\", \"ticks\": \"outside\"}, \"type\": \"choropleth\"}], \"contour\": [{\"colorbar\": {\"outlinewidth\": 1, \"tickcolor\": \"rgb(36,36,36)\", \"ticks\": \"outside\"}, \"colorscale\": [[0.0, \"#440154\"], [0.1111111111111111, \"#482878\"], [0.2222222222222222, \"#3e4989\"], [0.3333333333333333, \"#31688e\"], [0.4444444444444444, \"#26828e\"], [0.5555555555555556, \"#1f9e89\"], [0.6666666666666666, \"#35b779\"], [0.7777777777777778, \"#6ece58\"], [0.8888888888888888, \"#b5de2b\"], [1.0, \"#fde725\"]], \"type\": \"contour\"}], \"contourcarpet\": [{\"colorbar\": {\"outlinewidth\": 1, \"tickcolor\": \"rgb(36,36,36)\", \"ticks\": \"outside\"}, \"type\": \"contourcarpet\"}], \"heatmap\": [{\"colorbar\": {\"outlinewidth\": 1, \"tickcolor\": \"rgb(36,36,36)\", \"ticks\": \"outside\"}, \"colorscale\": [[0.0, \"#440154\"], [0.1111111111111111, \"#482878\"], [0.2222222222222222, \"#3e4989\"], [0.3333333333333333, \"#31688e\"], [0.4444444444444444, \"#26828e\"], [0.5555555555555556, \"#1f9e89\"], [0.6666666666666666, \"#35b779\"], [0.7777777777777778, \"#6ece58\"], [0.8888888888888888, \"#b5de2b\"], [1.0, \"#fde725\"]], \"type\": \"heatmap\"}], \"heatmapgl\": [{\"colorbar\": {\"outlinewidth\": 1, \"tickcolor\": \"rgb(36,36,36)\", \"ticks\": \"outside\"}, \"colorscale\": [[0.0, \"#440154\"], [0.1111111111111111, \"#482878\"], [0.2222222222222222, \"#3e4989\"], [0.3333333333333333, \"#31688e\"], [0.4444444444444444, \"#26828e\"], [0.5555555555555556, \"#1f9e89\"], [0.6666666666666666, \"#35b779\"], [0.7777777777777778, \"#6ece58\"], [0.8888888888888888, \"#b5de2b\"], [1.0, \"#fde725\"]], \"type\": \"heatmapgl\"}], \"histogram\": [{\"marker\": {\"line\": {\"color\": \"white\", \"width\": 0.6}}, \"type\": \"histogram\"}], \"histogram2d\": [{\"colorbar\": {\"outlinewidth\": 1, \"tickcolor\": \"rgb(36,36,36)\", \"ticks\": \"outside\"}, \"colorscale\": [[0.0, \"#440154\"], [0.1111111111111111, \"#482878\"], [0.2222222222222222, \"#3e4989\"], [0.3333333333333333, \"#31688e\"], [0.4444444444444444, \"#26828e\"], [0.5555555555555556, \"#1f9e89\"], [0.6666666666666666, \"#35b779\"], [0.7777777777777778, \"#6ece58\"], [0.8888888888888888, \"#b5de2b\"], [1.0, \"#fde725\"]], \"type\": \"histogram2d\"}], \"histogram2dcontour\": [{\"colorbar\": {\"outlinewidth\": 1, \"tickcolor\": \"rgb(36,36,36)\", \"ticks\": \"outside\"}, \"colorscale\": [[0.0, \"#440154\"], [0.1111111111111111, \"#482878\"], [0.2222222222222222, \"#3e4989\"], [0.3333333333333333, \"#31688e\"], [0.4444444444444444, \"#26828e\"], [0.5555555555555556, \"#1f9e89\"], [0.6666666666666666, \"#35b779\"], [0.7777777777777778, \"#6ece58\"], [0.8888888888888888, \"#b5de2b\"], [1.0, \"#fde725\"]], \"type\": \"histogram2dcontour\"}], \"mesh3d\": [{\"colorbar\": {\"outlinewidth\": 1, \"tickcolor\": \"rgb(36,36,36)\", \"ticks\": \"outside\"}, \"type\": \"mesh3d\"}], \"parcoords\": [{\"line\": {\"colorbar\": {\"outlinewidth\": 1, \"tickcolor\": \"rgb(36,36,36)\", \"ticks\": \"outside\"}}, \"type\": \"parcoords\"}], \"pie\": [{\"automargin\": true, \"type\": \"pie\"}], \"scatter\": [{\"marker\": {\"colorbar\": {\"outlinewidth\": 1, \"tickcolor\": \"rgb(36,36,36)\", \"ticks\": \"outside\"}}, \"type\": \"scatter\"}], \"scatter3d\": [{\"line\": {\"colorbar\": {\"outlinewidth\": 1, \"tickcolor\": \"rgb(36,36,36)\", \"ticks\": \"outside\"}}, \"marker\": {\"colorbar\": {\"outlinewidth\": 1, \"tickcolor\": \"rgb(36,36,36)\", \"ticks\": \"outside\"}}, \"type\": \"scatter3d\"}], \"scattercarpet\": [{\"marker\": {\"colorbar\": {\"outlinewidth\": 1, \"tickcolor\": \"rgb(36,36,36)\", \"ticks\": \"outside\"}}, \"type\": \"scattercarpet\"}], \"scattergeo\": [{\"marker\": {\"colorbar\": {\"outlinewidth\": 1, \"tickcolor\": \"rgb(36,36,36)\", \"ticks\": \"outside\"}}, \"type\": \"scattergeo\"}], \"scattergl\": [{\"marker\": {\"colorbar\": {\"outlinewidth\": 1, \"tickcolor\": \"rgb(36,36,36)\", \"ticks\": \"outside\"}}, \"type\": \"scattergl\"}], \"scattermapbox\": [{\"marker\": {\"colorbar\": {\"outlinewidth\": 1, \"tickcolor\": \"rgb(36,36,36)\", \"ticks\": \"outside\"}}, \"type\": \"scattermapbox\"}], \"scatterpolar\": [{\"marker\": {\"colorbar\": {\"outlinewidth\": 1, \"tickcolor\": \"rgb(36,36,36)\", \"ticks\": \"outside\"}}, \"type\": \"scatterpolar\"}], \"scatterpolargl\": [{\"marker\": {\"colorbar\": {\"outlinewidth\": 1, \"tickcolor\": \"rgb(36,36,36)\", \"ticks\": \"outside\"}}, \"type\": \"scatterpolargl\"}], \"scatterternary\": [{\"marker\": {\"colorbar\": {\"outlinewidth\": 1, \"tickcolor\": \"rgb(36,36,36)\", \"ticks\": \"outside\"}}, \"type\": \"scatterternary\"}], \"surface\": [{\"colorbar\": {\"outlinewidth\": 1, \"tickcolor\": \"rgb(36,36,36)\", \"ticks\": \"outside\"}, \"colorscale\": [[0.0, \"#440154\"], [0.1111111111111111, \"#482878\"], [0.2222222222222222, \"#3e4989\"], [0.3333333333333333, \"#31688e\"], [0.4444444444444444, \"#26828e\"], [0.5555555555555556, \"#1f9e89\"], [0.6666666666666666, \"#35b779\"], [0.7777777777777778, \"#6ece58\"], [0.8888888888888888, \"#b5de2b\"], [1.0, \"#fde725\"]], \"type\": \"surface\"}], \"table\": [{\"cells\": {\"fill\": {\"color\": \"rgb(237,237,237)\"}, \"line\": {\"color\": \"white\"}}, \"header\": {\"fill\": {\"color\": \"rgb(217,217,217)\"}, \"line\": {\"color\": \"white\"}}, \"type\": \"table\"}]}, \"layout\": {\"annotationdefaults\": {\"arrowhead\": 0, \"arrowwidth\": 1}, \"coloraxis\": {\"colorbar\": {\"outlinewidth\": 1, \"tickcolor\": \"rgb(36,36,36)\", \"ticks\": \"outside\"}}, \"colorscale\": {\"diverging\": [[0.0, \"rgb(103,0,31)\"], [0.1, \"rgb(178,24,43)\"], [0.2, \"rgb(214,96,77)\"], [0.3, \"rgb(244,165,130)\"], [0.4, \"rgb(253,219,199)\"], [0.5, \"rgb(247,247,247)\"], [0.6, \"rgb(209,229,240)\"], [0.7, \"rgb(146,197,222)\"], [0.8, \"rgb(67,147,195)\"], [0.9, \"rgb(33,102,172)\"], [1.0, \"rgb(5,48,97)\"]], \"sequential\": [[0.0, \"#440154\"], [0.1111111111111111, \"#482878\"], [0.2222222222222222, \"#3e4989\"], [0.3333333333333333, \"#31688e\"], [0.4444444444444444, \"#26828e\"], [0.5555555555555556, \"#1f9e89\"], [0.6666666666666666, \"#35b779\"], [0.7777777777777778, \"#6ece58\"], [0.8888888888888888, \"#b5de2b\"], [1.0, \"#fde725\"]], \"sequentialminus\": [[0.0, \"#440154\"], [0.1111111111111111, \"#482878\"], [0.2222222222222222, \"#3e4989\"], [0.3333333333333333, \"#31688e\"], [0.4444444444444444, \"#26828e\"], [0.5555555555555556, \"#1f9e89\"], [0.6666666666666666, \"#35b779\"], [0.7777777777777778, \"#6ece58\"], [0.8888888888888888, \"#b5de2b\"], [1.0, \"#fde725\"]]}, \"colorway\": [\"#1F77B4\", \"#FF7F0E\", \"#2CA02C\", \"#D62728\", \"#9467BD\", \"#8C564B\", \"#E377C2\", \"#7F7F7F\", \"#BCBD22\", \"#17BECF\"], \"font\": {\"color\": \"rgb(36,36,36)\"}, \"geo\": {\"bgcolor\": \"white\", \"lakecolor\": \"white\", \"landcolor\": \"white\", \"showlakes\": true, \"showland\": true, \"subunitcolor\": \"white\"}, \"hoverlabel\": {\"align\": \"left\"}, \"hovermode\": \"closest\", \"mapbox\": {\"style\": \"light\"}, \"paper_bgcolor\": \"white\", \"plot_bgcolor\": \"white\", \"polar\": {\"angularaxis\": {\"gridcolor\": \"rgb(232,232,232)\", \"linecolor\": \"rgb(36,36,36)\", \"showgrid\": false, \"showline\": true, \"ticks\": \"outside\"}, \"bgcolor\": \"white\", \"radialaxis\": {\"gridcolor\": \"rgb(232,232,232)\", \"linecolor\": \"rgb(36,36,36)\", \"showgrid\": false, \"showline\": true, \"ticks\": \"outside\"}}, \"scene\": {\"xaxis\": {\"backgroundcolor\": \"white\", \"gridcolor\": \"rgb(232,232,232)\", \"gridwidth\": 2, \"linecolor\": \"rgb(36,36,36)\", \"showbackground\": true, \"showgrid\": false, \"showline\": true, \"ticks\": \"outside\", \"zeroline\": false, \"zerolinecolor\": \"rgb(36,36,36)\"}, \"yaxis\": {\"backgroundcolor\": \"white\", \"gridcolor\": \"rgb(232,232,232)\", \"gridwidth\": 2, \"linecolor\": \"rgb(36,36,36)\", \"showbackground\": true, \"showgrid\": false, \"showline\": true, \"ticks\": \"outside\", \"zeroline\": false, \"zerolinecolor\": \"rgb(36,36,36)\"}, \"zaxis\": {\"backgroundcolor\": \"white\", \"gridcolor\": \"rgb(232,232,232)\", \"gridwidth\": 2, \"linecolor\": \"rgb(36,36,36)\", \"showbackground\": true, \"showgrid\": false, \"showline\": true, \"ticks\": \"outside\", \"zeroline\": false, \"zerolinecolor\": \"rgb(36,36,36)\"}}, \"shapedefaults\": {\"fillcolor\": \"black\", \"line\": {\"width\": 0}, \"opacity\": 0.3}, \"ternary\": {\"aaxis\": {\"gridcolor\": \"rgb(232,232,232)\", \"linecolor\": \"rgb(36,36,36)\", \"showgrid\": false, \"showline\": true, \"ticks\": \"outside\"}, \"baxis\": {\"gridcolor\": \"rgb(232,232,232)\", \"linecolor\": \"rgb(36,36,36)\", \"showgrid\": false, \"showline\": true, \"ticks\": \"outside\"}, \"bgcolor\": \"white\", \"caxis\": {\"gridcolor\": \"rgb(232,232,232)\", \"linecolor\": \"rgb(36,36,36)\", \"showgrid\": false, \"showline\": true, \"ticks\": \"outside\"}}, \"title\": {\"x\": 0.05}, \"xaxis\": {\"automargin\": true, \"gridcolor\": \"rgb(232,232,232)\", \"linecolor\": \"rgb(36,36,36)\", \"showgrid\": false, \"showline\": true, \"ticks\": \"outside\", \"title\": {\"standoff\": 15}, \"zeroline\": false, \"zerolinecolor\": \"rgb(36,36,36)\"}, \"yaxis\": {\"automargin\": true, \"gridcolor\": \"rgb(232,232,232)\", \"linecolor\": \"rgb(36,36,36)\", \"showgrid\": false, \"showline\": true, \"ticks\": \"outside\", \"title\": {\"standoff\": 15}, \"zeroline\": false, \"zerolinecolor\": \"rgb(36,36,36)\"}}}, \"title\": {\"text\": \"Cider House Blues Sunday\"}, \"xaxis\": {\"dtick\": 1, \"tick0\": 1, \"tickangle\": 45, \"tickfont\": {\"size\": 10}, \"tickmode\": \"array\", \"ticktext\": [\"Bloody Murder\", \"You Can't Lose What You Ain't Never Had\", \"Night Time Is the Right Time\", \"Chewin' Woman Blues\", \"Loan Me Your Husband\", \"Blues in the Air - Take 2\", \"The Bear Mash Blues\", \"Jackass Blues\", \"Blues in the Dark\", \"Wrong Side Of The Road\", \"St. James Infirmary - Digitally Remastered 00\", \"I Want a Little Sugar In My Bowl\", \"Dr. Feelgood (Love Is Serious Business)\", \"Riot In Cell Block Number Nine\", \"Last Night\", \"Hoodoo Man Blues\"], \"tickvals\": [1, 2, 3, 4, 5, 6, 7, 8, 9, 10, 11, 12, 13, 14, 15]}, \"yaxis\": {\"title\": {\"text\": \"energy\"}}},\n",
       "                        {\"responsive\": true}\n",
       "                    ).then(function(){\n",
       "                            \n",
       "var gd = document.getElementById('749649f6-cf96-4237-968e-f79fda9173b4');\n",
       "var x = new MutationObserver(function (mutations, observer) {{\n",
       "        var display = window.getComputedStyle(gd).display;\n",
       "        if (!display || display === 'none') {{\n",
       "            console.log([gd, 'removed!']);\n",
       "            Plotly.purge(gd);\n",
       "            observer.disconnect();\n",
       "        }}\n",
       "}});\n",
       "\n",
       "// Listen for the removal of the full notebook cells\n",
       "var notebookContainer = gd.closest('#notebook-container');\n",
       "if (notebookContainer) {{\n",
       "    x.observe(notebookContainer, {childList: true});\n",
       "}}\n",
       "\n",
       "// Listen for the clearing of the current output cell\n",
       "var outputEl = gd.closest('.output');\n",
       "if (outputEl) {{\n",
       "    x.observe(outputEl, {childList: true});\n",
       "}}\n",
       "\n",
       "                        })\n",
       "                };\n",
       "                });\n",
       "            </script>\n",
       "        </div>"
      ]
     },
     "metadata": {},
     "output_type": "display_data"
    }
   ],
   "source": [
    "def plot_playlist_data(playlist_uri):\n",
    "\n",
    "    playlist_info = sp.playlist(playlist_uri)\n",
    "    \n",
    "    features, names = get_audio_features_for_playlist(playlist_uri)\n",
    "    \n",
    "    durations = [feature['duration_ms'] for feature in features]\n",
    "    maximum = max(durations)\n",
    "    durations = [duration/maximum for duration in durations]\n",
    "\n",
    "    x = list(range(1, len(features)))\n",
    "    y0 = [feature[\"energy\"] for feature in features]\n",
    "    y1 = [feature[\"danceability\"] for feature in features]\n",
    "    y2 = [feature[\"valence\"] for feature in features]\n",
    "    y3 = [feature[\"tempo\"] for feature in features]\n",
    "\n",
    "    # Create traces\n",
    "    fig = go.Figure(data=[go.Bar(x=x, y=y0, width=durations)]) # customize width here\n",
    "    \n",
    "\n",
    "    # Add figure title\n",
    "\n",
    "    fig.update_layout(\n",
    "        title_text=f\"{playlist_info['name']}\"\n",
    "    )\n",
    "\n",
    "    # Set y-axes titles\n",
    "    fig.update_yaxes(title_text=\"energy\")\n",
    "\n",
    "    fig.update_xaxes(tickangle=45, tickfont=dict(size=10))\n",
    "\n",
    "    fig.update_layout(xaxis=dict(tickmode=\"linear\", tick0=1, dtick=1))\n",
    "    fig.update_layout(xaxis=dict(tickmode=\"array\", tickvals=x, ticktext=names))\n",
    "    fig.update_layout(template=\"simple_white\", clickmode=\"event+select\", bargap=0)\n",
    "\n",
    "    return fig\n",
    "\n",
    "plot_playlist_data(playlist_uri)"
   ]
  },
  {
   "cell_type": "code",
   "execution_count": 116,
   "metadata": {},
   "outputs": [
    {
     "data": {
      "text/plain": [
       "314107"
      ]
     },
     "execution_count": 116,
     "metadata": {},
     "output_type": "execute_result"
    }
   ],
   "source": [
    "max(durations)"
   ]
  },
  {
   "cell_type": "markdown",
   "metadata": {},
   "source": [
    "## Explore Genre"
   ]
  },
  {
   "cell_type": "code",
   "execution_count": 17,
   "metadata": {},
   "outputs": [],
   "source": [
    "# playlist_tracks = sp.playlist_tracks(playlist_uri)['items']"
   ]
  },
  {
   "cell_type": "code",
   "execution_count": 21,
   "metadata": {},
   "outputs": [],
   "source": [
    "artist_ids = [track['track']['album']['artists'][0]['id'] for track in playlist_tracks]"
   ]
  },
  {
   "cell_type": "code",
   "execution_count": 22,
   "metadata": {},
   "outputs": [],
   "source": [
    "artists = sp.artists(artist_ids)"
   ]
  },
  {
   "cell_type": "code",
   "execution_count": 25,
   "metadata": {},
   "outputs": [],
   "source": [
    "song_uris = [result['track']['uri'] for result in results]"
   ]
  },
  {
   "cell_type": "code",
   "execution_count": 55,
   "metadata": {},
   "outputs": [],
   "source": [
    "artists['artists']"
   ]
  },
  {
   "cell_type": "code",
   "execution_count": 23,
   "metadata": {},
   "outputs": [],
   "source": [
    "artist_genres = {artist['name']: artist['genres'] for artist in artists['artists']}\n"
   ]
  }
 ],
 "metadata": {
  "kernelspec": {
   "display_name": "Python 3",
   "language": "python",
   "name": "python3"
  },
  "language_info": {
   "codemirror_mode": {
    "name": "ipython",
    "version": 3
   },
   "file_extension": ".py",
   "mimetype": "text/x-python",
   "name": "python",
   "nbconvert_exporter": "python",
   "pygments_lexer": "ipython3",
   "version": "3.8.2"
  }
 },
 "nbformat": 4,
 "nbformat_minor": 4
}
